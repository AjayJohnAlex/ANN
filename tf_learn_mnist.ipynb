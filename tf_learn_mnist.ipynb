{
  "nbformat": 4,
  "nbformat_minor": 0,
  "metadata": {
    "colab": {
      "name": "tf_learn_mnist.ipynb",
      "provenance": [],
      "collapsed_sections": []
    },
    "kernelspec": {
      "name": "python3",
      "display_name": "Python 3"
    },
    "accelerator": "GPU"
  },
  "cells": [
    {
      "cell_type": "code",
      "metadata": {
        "id": "yRgT0KEtqZ3K",
        "colab_type": "code",
        "colab": {
          "base_uri": "https://localhost:8080/"
        },
        "outputId": "23e9c747-86da-45cf-a465-c90090e5298c"
      },
      "source": [
        "import tflearn\n",
        "from tflearn.layers.conv import conv_2d, max_pool_2d\n",
        "from tflearn.layers.core import input_data, dropout, fully_connected\n",
        "from tflearn.layers.estimator import regression\n",
        "import tflearn.datasets.mnist as mnist\n",
        "\n",
        "X, Y, test_x, test_y = mnist.load_data(one_hot=True)\n",
        "\n",
        "X = X.reshape([-1, 28, 28, 1])\n",
        "test_x = test_x.reshape([-1, 28, 28, 1])\n",
        "\n",
        "# Building convolutional convnet\n",
        "convnet = input_data(shape=[None, 28, 28, 1], name='input1')\n",
        "# http://tflearn.org/layers/conv/\n",
        "# http://tflearn.org/activations/\n",
        "convnet = conv_2d(convnet, 32, 2, activation='relu')\n",
        "convnet = max_pool_2d(convnet, 2)\n",
        "\n",
        "convnet = conv_2d(convnet, 64, 2, activation='relu')\n",
        "convnet = max_pool_2d(convnet, 2)\n",
        "\n",
        "convnet = fully_connected(convnet, 1024, activation='relu')\n",
        "convnet = dropout(convnet, 0.8)\n",
        "\n",
        "convnet = fully_connected(convnet, 10, activation='softmax')\n",
        "convnet = regression(convnet, optimizer='adam', learning_rate=0.01, loss='categorical_crossentropy', name='targets1')\n",
        "\n",
        "model = tflearn.DNN(convnet)\n",
        "model.fit({'input1': X}, {'targets1': Y}, n_epoch=5, validation_set=({'input1': test_x}, {'targets1': test_y}), \n",
        "    snapshot_step=500, show_metric=True, run_id='mnist')\n",
        "\n",
        "model.save('quicktest.model')"
      ],
      "execution_count": 1,
      "outputs": [
        {
          "output_type": "stream",
          "text": [
            "Training Step: 4299  | total loss: \u001b[1m\u001b[32m0.16802\u001b[0m\u001b[0m | time: 13.456s\n",
            "| Adam | epoch: 005 | loss: 0.16802 - acc: 0.9754 -- iter: 54976/55000\n",
            "Training Step: 4300  | total loss: \u001b[1m\u001b[32m0.15169\u001b[0m\u001b[0m | time: 14.790s\n",
            "| Adam | epoch: 005 | loss: 0.15169 - acc: 0.9778 | val_loss: 0.09859 - val_acc: 0.9796 -- iter: 55000/55000\n",
            "--\n",
            "INFO:tensorflow:/content/quicktest.model is not in all_model_checkpoint_paths. Manually adding it.\n"
          ],
          "name": "stdout"
        }
      ]
    },
    {
      "cell_type": "code",
      "metadata": {
        "id": "cAvbyTz0tOAp",
        "colab_type": "code",
        "colab": {
          "base_uri": "https://localhost:8080/",
          "height": 34
        },
        "outputId": "24c5f54d-c52d-4fa5-cf1d-77187611aacb"
      },
      "source": [
        "model.load('quicktest.model')"
      ],
      "execution_count": 2,
      "outputs": [
        {
          "output_type": "stream",
          "text": [
            "INFO:tensorflow:Restoring parameters from /content/quicktest.model\n"
          ],
          "name": "stdout"
        }
      ]
    },
    {
      "cell_type": "code",
      "metadata": {
        "id": "WGmOJyGg1CSE",
        "colab_type": "code",
        "colab": {
          "base_uri": "https://localhost:8080/",
          "height": 34
        },
        "outputId": "cdf3a772-f4af-4851-d003-2ee1888ff322"
      },
      "source": [
        "test_x[1].shape"
      ],
      "execution_count": 20,
      "outputs": [
        {
          "output_type": "execute_result",
          "data": {
            "text/plain": [
              "(28, 28, 1)"
            ]
          },
          "metadata": {
            "tags": []
          },
          "execution_count": 20
        }
      ]
    },
    {
      "cell_type": "code",
      "metadata": {
        "id": "byhF_LQ6y2E7",
        "colab_type": "code",
        "colab": {
          "base_uri": "https://localhost:8080/",
          "height": 329
        },
        "outputId": "6bb627eb-5cf6-423e-a4c9-5cc7f5151c2e"
      },
      "source": [
        "import numpy as np\n",
        "import matplotlib.pyplot as plt\n",
        "import cv2\n",
        "from google.colab.patches import cv2_imshow\n",
        "print(plt.title(str(np.argmax(np.round(model.predict([test_x[88]])[0])))))\n",
        "plt.imshow(test_x[88].reshape(28,28))\n",
        "\n",
        "print(plt.xlabel(str(np.argmax(test_y[88]))))"
      ],
      "execution_count": 49,
      "outputs": [
        {
          "output_type": "stream",
          "text": [
            "Text(0.5, 1.0, '6')\n",
            "Text(0.5, 0, '6')\n"
          ],
          "name": "stdout"
        },
        {
          "output_type": "display_data",
          "data": {
            "image/png": "[encoded data removed]",
            "text/plain": [
              "<Figure size 432x288 with 1 Axes>"
            ]
          },
          "metadata": {
            "tags": []
          }
        }
      ]
    },
    {
      "cell_type": "code",
      "metadata": {
        "id": "1O2-KFrG5TUb",
        "colab_type": "code",
        "colab": {}
      },
      "source": [
        ""
      ],
      "execution_count": 0,
      "outputs": []
    }
  ]
}