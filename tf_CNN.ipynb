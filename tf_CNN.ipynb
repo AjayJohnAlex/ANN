{
  "nbformat": 4,
  "nbformat_minor": 0,
  "metadata": {
    "colab": {
      "name": "tf_CNN.ipynb",
      "provenance": [],
      "collapsed_sections": []
    },
    "kernelspec": {
      "name": "python3",
      "display_name": "Python 3"
    },
    "accelerator": "GPU"
  },
  "cells": [
    {
      "cell_type": "code",
      "metadata": {
        "id": "0VrsmrTRYM-c",
        "colab_type": "code",
        "colab": {}
      },
      "source": [
        "import pandas as pd \n",
        "import numpy as np\n",
        "import tensorflow as tf"
      ],
      "execution_count": 0,
      "outputs": []
    },
    {
      "cell_type": "code",
      "metadata": {
        "id": "hphcOv7oYVh1",
        "colab_type": "code",
        "colab": {}
      },
      "source": [
        "import matplotlib.pyplot as plt\n",
        "from tensorflow.examples.tutorials.mnist  import input_data\n",
        "%matplotlib inline"
      ],
      "execution_count": 0,
      "outputs": []
    },
    {
      "cell_type": "code",
      "metadata": {
        "id": "tWpA9ar5Y6Ya",
        "colab_type": "code",
        "outputId": "2509e1e1-8348-4a5e-a43b-2605f6c1e1f0",
        "colab": {
          "base_uri": "https://localhost:8080/",
          "height": 530
        }
      },
      "source": [
        "mnist = input_data.read_data_sets('datset/',one_hot=True)"
      ],
      "execution_count": 0,
      "outputs": [
        {
          "output_type": "stream",
          "text": [
            "WARNING:tensorflow:From <ipython-input-3-2d62a5b847d7>:1: read_data_sets (from tensorflow.contrib.learn.python.learn.datasets.mnist) is deprecated and will be removed in a future version.\n",
            "Instructions for updating:\n",
            "Please use alternatives such as official/mnist/dataset.py from tensorflow/models.\n",
            "WARNING:tensorflow:From /usr/local/lib/python3.6/dist-packages/tensorflow_core/contrib/learn/python/learn/datasets/mnist.py:260: maybe_download (from tensorflow.contrib.learn.python.learn.datasets.base) is deprecated and will be removed in a future version.\n",
            "Instructions for updating:\n",
            "Please write your own downloading logic.\n",
            "WARNING:tensorflow:From /usr/local/lib/python3.6/dist-packages/tensorflow_core/contrib/learn/python/learn/datasets/base.py:252: _internal_retry.<locals>.wrap.<locals>.wrapped_fn (from tensorflow.contrib.learn.python.learn.datasets.base) is deprecated and will be removed in a future version.\n",
            "Instructions for updating:\n",
            "Please use urllib or similar directly.\n",
            "Successfully downloaded train-images-idx3-ubyte.gz 9912422 bytes.\n",
            "WARNING:tensorflow:From /usr/local/lib/python3.6/dist-packages/tensorflow_core/contrib/learn/python/learn/datasets/mnist.py:262: extract_images (from tensorflow.contrib.learn.python.learn.datasets.mnist) is deprecated and will be removed in a future version.\n",
            "Instructions for updating:\n",
            "Please use tf.data to implement this functionality.\n",
            "Extracting datset/train-images-idx3-ubyte.gz\n",
            "Successfully downloaded train-labels-idx1-ubyte.gz 28881 bytes.\n",
            "WARNING:tensorflow:From /usr/local/lib/python3.6/dist-packages/tensorflow_core/contrib/learn/python/learn/datasets/mnist.py:267: extract_labels (from tensorflow.contrib.learn.python.learn.datasets.mnist) is deprecated and will be removed in a future version.\n",
            "Instructions for updating:\n",
            "Please use tf.data to implement this functionality.\n",
            "Extracting datset/train-labels-idx1-ubyte.gz\n",
            "WARNING:tensorflow:From /usr/local/lib/python3.6/dist-packages/tensorflow_core/contrib/learn/python/learn/datasets/mnist.py:110: dense_to_one_hot (from tensorflow.contrib.learn.python.learn.datasets.mnist) is deprecated and will be removed in a future version.\n",
            "Instructions for updating:\n",
            "Please use tf.one_hot on tensors.\n",
            "Successfully downloaded t10k-images-idx3-ubyte.gz 1648877 bytes.\n",
            "Extracting datset/t10k-images-idx3-ubyte.gz\n",
            "Successfully downloaded t10k-labels-idx1-ubyte.gz 4542 bytes.\n",
            "Extracting datset/t10k-labels-idx1-ubyte.gz\n",
            "WARNING:tensorflow:From /usr/local/lib/python3.6/dist-packages/tensorflow_core/contrib/learn/python/learn/datasets/mnist.py:290: DataSet.__init__ (from tensorflow.contrib.learn.python.learn.datasets.mnist) is deprecated and will be removed in a future version.\n",
            "Instructions for updating:\n",
            "Please use alternatives such as official/mnist/dataset.py from tensorflow/models.\n"
          ],
          "name": "stdout"
        }
      ]
    },
    {
      "cell_type": "code",
      "metadata": {
        "id": "xayRtwbqZH-L",
        "colab_type": "code",
        "colab": {}
      },
      "source": [
        "# helper function to initialise weights of a layer \n",
        "\n",
        "def weights(shape):\n",
        "\n",
        "  return tf.Variable(tf.truncated_normal(shape,stddev=0.1))"
      ],
      "execution_count": 0,
      "outputs": []
    },
    {
      "cell_type": "code",
      "metadata": {
        "id": "g9sYXUEQZgCp",
        "colab_type": "code",
        "colab": {}
      },
      "source": [
        "# helper function to initialise bias of a layer \n",
        "\n",
        "def bias(shape):\n",
        "\n",
        "  return tf.Variable(tf.constant(0.1,shape=shape))"
      ],
      "execution_count": 0,
      "outputs": []
    },
    {
      "cell_type": "code",
      "metadata": {
        "id": "l5ZQVNVnZiCQ",
        "colab_type": "code",
        "colab": {}
      },
      "source": [
        "# helper function to build convo2d\n",
        "\n",
        "def conv2d(x,W):\n",
        "  # x =  input tensor (batches,h,w,channels)\n",
        "  # W = kernel(filter_h,filter_w,channels IN, channels out)\n",
        "\n",
        "  return tf.nn.conv2d(x,W,strides=[1,1,1,1],padding='SAME')"
      ],
      "execution_count": 0,
      "outputs": []
    },
    {
      "cell_type": "code",
      "metadata": {
        "id": "E-7J1E2oZlpN",
        "colab_type": "code",
        "colab": {}
      },
      "source": [
        "# helper function for pooling\n",
        "\n",
        "def max_pooling(x):\n",
        "#   ksize means we have a polling of (2*2) were we would look for maximum value in a 2*2 pool and we would move with a stride of 2*2\n",
        "  return tf.nn.max_pool(x,ksize=[1,2,2,1],strides=[1,2,2,1],padding='SAME')"
      ],
      "execution_count": 0,
      "outputs": []
    },
    {
      "cell_type": "code",
      "metadata": {
        "id": "dq4R-sPWpDKz",
        "colab_type": "code",
        "colab": {}
      },
      "source": [
        "# creating layer Convolutional layer\n",
        "def convolutional_layer(input_x,shape):\n",
        "\n",
        "  # in CNN common diagram we have a 5*5 convolutional layer with 32 features in it .\n",
        "  # ie the shape is [5,5,1,32] , this is the shape that will be passed in here in the SHAPE parameter\n",
        "\n",
        "  W = weights(shape)\n",
        "  print(\"convo layer W value \",W)\n",
        "  print(\"convo layer shape value \",shape[3])\n",
        "  b = bias([shape[3]])# the shape's 3rd element is the no of features (32)\n",
        "  print(\"convo layer b value \",b)\n",
        "  return tf.nn.relu(conv2d(input_x,W)+b)"
      ],
      "execution_count": 0,
      "outputs": []
    },
    {
      "cell_type": "code",
      "metadata": {
        "id": "Ie0kNZxhpyvx",
        "colab_type": "code",
        "colab": {}
      },
      "source": [
        "# fully connected layer\n",
        "\n",
        "def normal_full_layer(input_layer,size):\n",
        "  input_size = int(input_layer.get_shape()[1])\n",
        "  print(\"input size \", input_size)\n",
        "  W = weights([input_size,size])\n",
        "  b = bias([size])\n",
        "  return tf.matmul(input_layer,W) + b"
      ],
      "execution_count": 0,
      "outputs": []
    },
    {
      "cell_type": "code",
      "metadata": {
        "id": "azhVJmpQqWdp",
        "colab_type": "code",
        "colab": {}
      },
      "source": [
        "x = tf.placeholder(tf.float32,shape=[None,784])\n",
        "y_true = tf.placeholder(tf.float32,shape=[None,10])"
      ],
      "execution_count": 0,
      "outputs": []
    },
    {
      "cell_type": "code",
      "metadata": {
        "id": "hvfUkAVVqzcP",
        "colab_type": "code",
        "colab": {}
      },
      "source": [
        "# layer \n",
        "# input /image layer\n",
        "\n",
        "X_image = tf.reshape(x,[-1,28,28,1])\n"
      ],
      "execution_count": 0,
      "outputs": []
    },
    {
      "cell_type": "code",
      "metadata": {
        "id": "G3BV5XBFg8fH",
        "colab_type": "code",
        "outputId": "9c45298d-910c-47e1-805f-075df63f619d",
        "colab": {
          "base_uri": "https://localhost:8080/",
          "height": 68
        }
      },
      "source": [
        "convo_1 = convolutional_layer(X_image,shape=[5,5,1,32]) # patch size (5,5) , grayscale [1], features [32]\n",
        "convo_1_pooling = max_pooling(convo_1)"
      ],
      "execution_count": 0,
      "outputs": [
        {
          "output_type": "stream",
          "text": [
            "convo layer W value  <tf.Variable 'Variable:0' shape=(5, 5, 1, 32) dtype=float32_ref>\n",
            "convo layer shape value  32\n",
            "convo layer b value  <tf.Variable 'Variable_1:0' shape=(32,) dtype=float32_ref>\n"
          ],
          "name": "stdout"
        }
      ]
    },
    {
      "cell_type": "code",
      "metadata": {
        "id": "oUMfuDPbi7ZH",
        "colab_type": "code",
        "outputId": "c9e0d394-0c02-4709-9352-70555d8662d0",
        "colab": {
          "base_uri": "https://localhost:8080/",
          "height": 68
        }
      },
      "source": [
        "convo_2 = convolutional_layer(convo_1_pooling,shape=[5,5,32,64]) # patch size (5,5) , grayscale [1], features [32]\n",
        "convo_2_pooling = max_pooling(convo_2)"
      ],
      "execution_count": 0,
      "outputs": [
        {
          "output_type": "stream",
          "text": [
            "convo layer W value  <tf.Variable 'Variable_2:0' shape=(5, 5, 32, 64) dtype=float32_ref>\n",
            "convo layer shape value  64\n",
            "convo layer b value  <tf.Variable 'Variable_3:0' shape=(64,) dtype=float32_ref>\n"
          ],
          "name": "stdout"
        }
      ]
    },
    {
      "cell_type": "code",
      "metadata": {
        "id": "swrZq9XHlDKm",
        "colab_type": "code",
        "outputId": "57c69999-f33e-4dbb-c88d-e50b1ea44b30",
        "colab": {
          "base_uri": "https://localhost:8080/",
          "height": 34
        }
      },
      "source": [
        "convo_2_flat = tf.reshape(convo_2_pooling,shape=[-1,7*7*64])\n",
        "full_layer_one = tf.nn.relu(normal_full_layer(convo_2_flat,1024))"
      ],
      "execution_count": 0,
      "outputs": [
        {
          "output_type": "stream",
          "text": [
            "input size  3136\n"
          ],
          "name": "stdout"
        }
      ]
    },
    {
      "cell_type": "code",
      "metadata": {
        "id": "qr8sJtRQmzwP",
        "colab_type": "code",
        "outputId": "dbc5834e-49c1-458c-ce4a-1c18b4983c29",
        "colab": {
          "base_uri": "https://localhost:8080/",
          "height": 88
        }
      },
      "source": [
        "# dropiut\n",
        "\n",
        "hold_prob =  tf.placeholder(tf.float32)\n",
        "full_one_dropout = tf.nn.dropout(full_layer_one,keep_prob=hold_prob)"
      ],
      "execution_count": 0,
      "outputs": [
        {
          "output_type": "stream",
          "text": [
            "WARNING:tensorflow:From <ipython-input-15-3a0f6a93e049>:3: calling dropout (from tensorflow.python.ops.nn_ops) with keep_prob is deprecated and will be removed in a future version.\n",
            "Instructions for updating:\n",
            "Please use `rate` instead of `keep_prob`. Rate should be set to `rate = 1 - keep_prob`.\n"
          ],
          "name": "stdout"
        }
      ]
    },
    {
      "cell_type": "code",
      "metadata": {
        "id": "XWqvoQCCnXIj",
        "colab_type": "code",
        "outputId": "8b4cf8e6-639e-48f0-b3ff-b71817d77d4e",
        "colab": {
          "base_uri": "https://localhost:8080/",
          "height": 34
        }
      },
      "source": [
        "y_pred = normal_full_layer(full_one_dropout,10)"
      ],
      "execution_count": 0,
      "outputs": [
        {
          "output_type": "stream",
          "text": [
            "input size  1024\n"
          ],
          "name": "stdout"
        }
      ]
    },
    {
      "cell_type": "code",
      "metadata": {
        "id": "UmkS3hUEomsl",
        "colab_type": "code",
        "outputId": "4050b84a-906e-482b-94ee-5bad943cae76",
        "colab": {
          "base_uri": "https://localhost:8080/",
          "height": 173
        }
      },
      "source": [
        "cross_entropy_loss = tf.reduce_mean(tf.nn.softmax_cross_entropy_with_logits(labels=y_true,logits=y_pred))"
      ],
      "execution_count": 0,
      "outputs": [
        {
          "output_type": "stream",
          "text": [
            "WARNING:tensorflow:From <ipython-input-17-8c87f7b4ca45>:1: softmax_cross_entropy_with_logits (from tensorflow.python.ops.nn_ops) is deprecated and will be removed in a future version.\n",
            "Instructions for updating:\n",
            "\n",
            "Future major versions of TensorFlow will allow gradients to flow\n",
            "into the labels input on backprop by default.\n",
            "\n",
            "See `tf.nn.softmax_cross_entropy_with_logits_v2`.\n",
            "\n"
          ],
          "name": "stdout"
        }
      ]
    },
    {
      "cell_type": "code",
      "metadata": {
        "id": "3VGvyLi1o9u4",
        "colab_type": "code",
        "colab": {}
      },
      "source": [
        "optimiser = tf.train.AdamOptimizer(learning_rate=0.001).minimize(cross_entropy_loss)"
      ],
      "execution_count": 0,
      "outputs": []
    },
    {
      "cell_type": "code",
      "metadata": {
        "id": "8OLKey13pvV0",
        "colab_type": "code",
        "colab": {}
      },
      "source": [
        "saver = tf.train.Saver()"
      ],
      "execution_count": 0,
      "outputs": []
    },
    {
      "cell_type": "code",
      "metadata": {
        "id": "tvrT0oI8nl8N",
        "colab_type": "code",
        "outputId": "0ec9f010-8f03-4950-b89e-a363acea9127",
        "colab": {
          "base_uri": "https://localhost:8080/",
          "height": 1000
        }
      },
      "source": [
        "init = tf.global_variables_initializer()\n",
        "steps = 5000\n",
        "with tf.Session() as sess:\n",
        "  sess.run(init)\n",
        "\n",
        "  for i in range(steps):\n",
        "\n",
        "    batch_x, batch_y = mnist.test.next_batch(50)\n",
        "\n",
        "    sess.run(optimiser,feed_dict={x:batch_x,y_true:batch_y,hold_prob:0.5})\n",
        "\n",
        "    if i %100 == 0:\n",
        "      print(\"Accuracy on step :{}\".format(i))\n",
        "\n",
        "      corrected_pred = tf.equal(tf.argmax(y_pred,1),(tf.argmax(y_true,1)))\n",
        "      accuracy = tf.reduce_mean(tf.cast(corrected_pred,tf.float32))\n",
        "      print(sess.run(accuracy,feed_dict={x:mnist.train.images,y_true:mnist.train.labels,hold_prob:1.0}))\n",
        "      print('\\n')\n",
        "  saver.save(sess,'model/cnn_mnist_tf.h5')\n"
      ],
      "execution_count": 0,
      "outputs": [
        {
          "output_type": "stream",
          "text": [
            "Accuracy on step :0\n",
            "0.09821818\n",
            "\n",
            "\n",
            "Accuracy on step :100\n",
            "0.93585455\n",
            "\n",
            "\n",
            "Accuracy on step :200\n",
            "0.94914544\n",
            "\n",
            "\n",
            "Accuracy on step :300\n",
            "0.9684909\n",
            "\n",
            "\n",
            "Accuracy on step :400\n",
            "0.9690727\n",
            "\n",
            "\n",
            "Accuracy on step :500\n",
            "0.9684909\n",
            "\n",
            "\n",
            "Accuracy on step :600\n",
            "0.97498184\n",
            "\n",
            "\n",
            "Accuracy on step :700\n",
            "0.97156364\n",
            "\n",
            "\n",
            "Accuracy on step :800\n",
            "0.97136366\n",
            "\n",
            "\n",
            "Accuracy on step :900\n",
            "0.97505456\n",
            "\n",
            "\n",
            "Accuracy on step :1000\n",
            "0.9778909\n",
            "\n",
            "\n",
            "Accuracy on step :1100\n",
            "0.9772182\n",
            "\n",
            "\n",
            "Accuracy on step :1200\n",
            "0.97123635\n",
            "\n",
            "\n",
            "Accuracy on step :1300\n",
            "0.9767454\n",
            "\n",
            "\n",
            "Accuracy on step :1400\n",
            "0.977\n",
            "\n",
            "\n",
            "Accuracy on step :1500\n",
            "0.9773273\n",
            "\n",
            "\n",
            "Accuracy on step :1600\n",
            "0.9772\n",
            "\n",
            "\n",
            "Accuracy on step :1700\n",
            "0.9790546\n",
            "\n",
            "\n",
            "Accuracy on step :1800\n",
            "0.9748545\n",
            "\n",
            "\n",
            "Accuracy on step :1900\n",
            "0.9763273\n",
            "\n",
            "\n",
            "Accuracy on step :2000\n",
            "0.97876364\n",
            "\n",
            "\n",
            "Accuracy on step :2100\n",
            "0.97483635\n",
            "\n",
            "\n",
            "Accuracy on step :2200\n",
            "0.9760909\n",
            "\n",
            "\n",
            "Accuracy on step :2300\n",
            "0.9796364\n",
            "\n",
            "\n",
            "Accuracy on step :2400\n",
            "0.9769091\n",
            "\n",
            "\n",
            "Accuracy on step :2500\n",
            "0.97245455\n",
            "\n",
            "\n",
            "Accuracy on step :2600\n",
            "0.9777091\n",
            "\n",
            "\n",
            "Accuracy on step :2700\n",
            "0.9748727\n",
            "\n",
            "\n",
            "Accuracy on step :2800\n",
            "0.9725636\n",
            "\n",
            "\n",
            "Accuracy on step :2900\n",
            "0.9800909\n",
            "\n",
            "\n",
            "Accuracy on step :3000\n",
            "0.97810906\n",
            "\n",
            "\n",
            "Accuracy on step :3100\n",
            "0.9787818\n",
            "\n",
            "\n",
            "Accuracy on step :3200\n",
            "0.9763455\n",
            "\n",
            "\n",
            "Accuracy on step :3300\n",
            "0.9788727\n",
            "\n",
            "\n",
            "Accuracy on step :3400\n",
            "0.97983634\n",
            "\n",
            "\n",
            "Accuracy on step :3500\n",
            "0.9781455\n",
            "\n",
            "\n",
            "Accuracy on step :3600\n",
            "0.9766545\n",
            "\n",
            "\n",
            "Accuracy on step :3700\n",
            "0.96874547\n",
            "\n",
            "\n",
            "Accuracy on step :3800\n",
            "0.9778\n",
            "\n",
            "\n",
            "Accuracy on step :3900\n",
            "0.97685456\n",
            "\n",
            "\n",
            "Accuracy on step :4000\n",
            "0.97925454\n",
            "\n",
            "\n",
            "Accuracy on step :4100\n",
            "0.97983634\n",
            "\n",
            "\n",
            "Accuracy on step :4200\n",
            "0.9788182\n",
            "\n",
            "\n",
            "Accuracy on step :4300\n",
            "0.98\n",
            "\n",
            "\n",
            "Accuracy on step :4400\n",
            "0.97792727\n",
            "\n",
            "\n",
            "Accuracy on step :4500\n",
            "0.97801816\n",
            "\n",
            "\n",
            "Accuracy on step :4600\n",
            "0.97678185\n",
            "\n",
            "\n",
            "Accuracy on step :4700\n",
            "0.9771818\n",
            "\n",
            "\n",
            "Accuracy on step :4800\n",
            "0.9790909\n",
            "\n",
            "\n",
            "Accuracy on step :4900\n",
            "0.97867274\n",
            "\n",
            "\n"
          ],
          "name": "stdout"
        }
      ]
    }
  ]
}