{
  "nbformat": 4,
  "nbformat_minor": 0,
  "metadata": {
    "colab": {
      "name": "Time Series Forecasting.ipynb",
      "provenance": [],
      "authorship_tag": "ABX9TyO+HH/s8iZrnoXQnV6GMjzC",
      "include_colab_link": true
    },
    "kernelspec": {
      "name": "python3",
      "display_name": "Python 3"
    },
    "accelerator": "GPU"
  },
  "cells": [
    {
      "cell_type": "markdown",
      "metadata": {
        "id": "view-in-github",
        "colab_type": "text"
      },
      "source": [
        "<a href=\"https://colab.research.google.com/github/AjayJohnAlex/ANN/blob/master/Time_Series_Forecasting.ipynb\" target=\"_parent\"><img src=\"https://colab.research.google.com/assets/colab-badge.svg\" alt=\"Open In Colab\"/></a>"
      ]
    },
    {
      "cell_type": "code",
      "metadata": {
        "id": "SRqmQLmCgRJL",
        "colab_type": "code",
        "outputId": "5b9ce5a4-7460-4666-bf1e-935da070d7fc",
        "colab": {
          "base_uri": "https://localhost:8080/",
          "height": 34
        }
      },
      "source": [
        "print(\"hello\")"
      ],
      "execution_count": 0,
      "outputs": [
        {
          "output_type": "stream",
          "text": [
            "hello\n"
          ],
          "name": "stdout"
        }
      ]
    },
    {
      "cell_type": "code",
      "metadata": {
        "id": "usa5dh9yg0hK",
        "colab_type": "code",
        "colab": {}
      },
      "source": [
        "import pandas as pd \n",
        "import numpy as np\n",
        "import matplotlib.pyplot as plt\n",
        "import seaborn as sns \n",
        "%matplotlib inline"
      ],
      "execution_count": 0,
      "outputs": []
    },
    {
      "cell_type": "code",
      "metadata": {
        "id": "Pa6w2La8hSzI",
        "colab_type": "code",
        "outputId": "fcc921fa-ccca-411e-f16a-3141dcbfaaae",
        "colab": {
          "base_uri": "https://localhost:8080/",
          "height": 224
        }
      },
      "source": [
        "df = pd.read_csv('/content/Weather_data.csv')\n",
        "df.head()"
      ],
      "execution_count": 0,
      "outputs": [
        {
          "output_type": "execute_result",
          "data": {
            "text/html": [
              "<div>\n",
              "<style scoped>\n",
              "    .dataframe tbody tr th:only-of-type {\n",
              "        vertical-align: middle;\n",
              "    }\n",
              "\n",
              "    .dataframe tbody tr th {\n",
              "        vertical-align: top;\n",
              "    }\n",
              "\n",
              "    .dataframe thead th {\n",
              "        text-align: right;\n",
              "    }\n",
              "</style>\n",
              "<table border=\"1\" class=\"dataframe\">\n",
              "  <thead>\n",
              "    <tr style=\"text-align: right;\">\n",
              "      <th></th>\n",
              "      <th>datetime_utc</th>\n",
              "      <th>_conds</th>\n",
              "      <th>_dewptm</th>\n",
              "      <th>_fog</th>\n",
              "      <th>_hail</th>\n",
              "      <th>_heatindexm</th>\n",
              "      <th>_hum</th>\n",
              "      <th>_precipm</th>\n",
              "      <th>_pressurem</th>\n",
              "      <th>_rain</th>\n",
              "      <th>_snow</th>\n",
              "      <th>_tempm</th>\n",
              "      <th>_thunder</th>\n",
              "      <th>_tornado</th>\n",
              "      <th>_vism</th>\n",
              "      <th>_wdird</th>\n",
              "      <th>_wdire</th>\n",
              "      <th>_wgustm</th>\n",
              "      <th>_windchillm</th>\n",
              "      <th>_wspdm</th>\n",
              "    </tr>\n",
              "  </thead>\n",
              "  <tbody>\n",
              "    <tr>\n",
              "      <th>0</th>\n",
              "      <td>19961101-11:00</td>\n",
              "      <td>Smoke</td>\n",
              "      <td>9.0</td>\n",
              "      <td>0</td>\n",
              "      <td>0</td>\n",
              "      <td>NaN</td>\n",
              "      <td>27.0</td>\n",
              "      <td>NaN</td>\n",
              "      <td>1010.0</td>\n",
              "      <td>0</td>\n",
              "      <td>0</td>\n",
              "      <td>30.0</td>\n",
              "      <td>0</td>\n",
              "      <td>0</td>\n",
              "      <td>5.0</td>\n",
              "      <td>280.0</td>\n",
              "      <td>West</td>\n",
              "      <td>NaN</td>\n",
              "      <td>NaN</td>\n",
              "      <td>7.4</td>\n",
              "    </tr>\n",
              "    <tr>\n",
              "      <th>1</th>\n",
              "      <td>19961101-12:00</td>\n",
              "      <td>Smoke</td>\n",
              "      <td>10.0</td>\n",
              "      <td>0</td>\n",
              "      <td>0</td>\n",
              "      <td>NaN</td>\n",
              "      <td>32.0</td>\n",
              "      <td>NaN</td>\n",
              "      <td>-9999.0</td>\n",
              "      <td>0</td>\n",
              "      <td>0</td>\n",
              "      <td>28.0</td>\n",
              "      <td>0</td>\n",
              "      <td>0</td>\n",
              "      <td>NaN</td>\n",
              "      <td>0.0</td>\n",
              "      <td>North</td>\n",
              "      <td>NaN</td>\n",
              "      <td>NaN</td>\n",
              "      <td>NaN</td>\n",
              "    </tr>\n",
              "    <tr>\n",
              "      <th>2</th>\n",
              "      <td>19961101-13:00</td>\n",
              "      <td>Smoke</td>\n",
              "      <td>11.0</td>\n",
              "      <td>0</td>\n",
              "      <td>0</td>\n",
              "      <td>NaN</td>\n",
              "      <td>44.0</td>\n",
              "      <td>NaN</td>\n",
              "      <td>-9999.0</td>\n",
              "      <td>0</td>\n",
              "      <td>0</td>\n",
              "      <td>24.0</td>\n",
              "      <td>0</td>\n",
              "      <td>0</td>\n",
              "      <td>NaN</td>\n",
              "      <td>0.0</td>\n",
              "      <td>North</td>\n",
              "      <td>NaN</td>\n",
              "      <td>NaN</td>\n",
              "      <td>NaN</td>\n",
              "    </tr>\n",
              "    <tr>\n",
              "      <th>3</th>\n",
              "      <td>19961101-14:00</td>\n",
              "      <td>Smoke</td>\n",
              "      <td>10.0</td>\n",
              "      <td>0</td>\n",
              "      <td>0</td>\n",
              "      <td>NaN</td>\n",
              "      <td>41.0</td>\n",
              "      <td>NaN</td>\n",
              "      <td>1010.0</td>\n",
              "      <td>0</td>\n",
              "      <td>0</td>\n",
              "      <td>24.0</td>\n",
              "      <td>0</td>\n",
              "      <td>0</td>\n",
              "      <td>2.0</td>\n",
              "      <td>0.0</td>\n",
              "      <td>North</td>\n",
              "      <td>NaN</td>\n",
              "      <td>NaN</td>\n",
              "      <td>NaN</td>\n",
              "    </tr>\n",
              "    <tr>\n",
              "      <th>4</th>\n",
              "      <td>19961101-16:00</td>\n",
              "      <td>Smoke</td>\n",
              "      <td>11.0</td>\n",
              "      <td>0</td>\n",
              "      <td>0</td>\n",
              "      <td>NaN</td>\n",
              "      <td>47.0</td>\n",
              "      <td>NaN</td>\n",
              "      <td>1011.0</td>\n",
              "      <td>0</td>\n",
              "      <td>0</td>\n",
              "      <td>23.0</td>\n",
              "      <td>0</td>\n",
              "      <td>0</td>\n",
              "      <td>1.2</td>\n",
              "      <td>0.0</td>\n",
              "      <td>North</td>\n",
              "      <td>NaN</td>\n",
              "      <td>NaN</td>\n",
              "      <td>0.0</td>\n",
              "    </tr>\n",
              "  </tbody>\n",
              "</table>\n",
              "</div>"
            ],
            "text/plain": [
              "     datetime_utc  _conds   _dewptm  ...   _wgustm   _windchillm   _wspdm\n",
              "0  19961101-11:00   Smoke       9.0  ...       NaN           NaN      7.4\n",
              "1  19961101-12:00   Smoke      10.0  ...       NaN           NaN      NaN\n",
              "2  19961101-13:00   Smoke      11.0  ...       NaN           NaN      NaN\n",
              "3  19961101-14:00   Smoke      10.0  ...       NaN           NaN      NaN\n",
              "4  19961101-16:00   Smoke      11.0  ...       NaN           NaN      0.0\n",
              "\n",
              "[5 rows x 20 columns]"
            ]
          },
          "metadata": {
            "tags": []
          },
          "execution_count": 3
        }
      ]
    },
    {
      "cell_type": "code",
      "metadata": {
        "id": "EvMhLKPSVZH2",
        "colab_type": "code",
        "outputId": "d1fdda43-2b09-4694-e0de-6db347629a1c",
        "colab": {
          "base_uri": "https://localhost:8080/",
          "height": 317
        }
      },
      "source": [
        "df.describe()"
      ],
      "execution_count": 0,
      "outputs": [
        {
          "output_type": "execute_result",
          "data": {
            "text/html": [
              "<div>\n",
              "<style scoped>\n",
              "    .dataframe tbody tr th:only-of-type {\n",
              "        vertical-align: middle;\n",
              "    }\n",
              "\n",
              "    .dataframe tbody tr th {\n",
              "        vertical-align: top;\n",
              "    }\n",
              "\n",
              "    .dataframe thead th {\n",
              "        text-align: right;\n",
              "    }\n",
              "</style>\n",
              "<table border=\"1\" class=\"dataframe\">\n",
              "  <thead>\n",
              "    <tr style=\"text-align: right;\">\n",
              "      <th></th>\n",
              "      <th>_dewptm</th>\n",
              "      <th>_fog</th>\n",
              "      <th>_hail</th>\n",
              "      <th>_heatindexm</th>\n",
              "      <th>_hum</th>\n",
              "      <th>_precipm</th>\n",
              "      <th>_pressurem</th>\n",
              "      <th>_rain</th>\n",
              "      <th>_snow</th>\n",
              "      <th>_tempm</th>\n",
              "      <th>_thunder</th>\n",
              "      <th>_tornado</th>\n",
              "      <th>_vism</th>\n",
              "      <th>_wdird</th>\n",
              "      <th>_wgustm</th>\n",
              "      <th>_windchillm</th>\n",
              "      <th>_wspdm</th>\n",
              "    </tr>\n",
              "  </thead>\n",
              "  <tbody>\n",
              "    <tr>\n",
              "      <th>count</th>\n",
              "      <td>98294.000000</td>\n",
              "      <td>98913.000000</td>\n",
              "      <td>98913.000000</td>\n",
              "      <td>29111.000000</td>\n",
              "      <td>98160.000000</td>\n",
              "      <td>0.0</td>\n",
              "      <td>9.868200e+04</td>\n",
              "      <td>98913.000000</td>\n",
              "      <td>98913.00000</td>\n",
              "      <td>98244.000000</td>\n",
              "      <td>98913.000000</td>\n",
              "      <td>98913.000000</td>\n",
              "      <td>94497.000000</td>\n",
              "      <td>84533.000000</td>\n",
              "      <td>1063.000000</td>\n",
              "      <td>573.000000</td>\n",
              "      <td>96560.000000</td>\n",
              "    </tr>\n",
              "    <tr>\n",
              "      <th>mean</th>\n",
              "      <td>15.817130</td>\n",
              "      <td>0.067109</td>\n",
              "      <td>0.000131</td>\n",
              "      <td>35.659606</td>\n",
              "      <td>57.774358</td>\n",
              "      <td>NaN</td>\n",
              "      <td>1.951861e+03</td>\n",
              "      <td>0.026498</td>\n",
              "      <td>0.00001</td>\n",
              "      <td>25.578427</td>\n",
              "      <td>0.009362</td>\n",
              "      <td>0.000020</td>\n",
              "      <td>2.419885</td>\n",
              "      <td>162.550980</td>\n",
              "      <td>37.704516</td>\n",
              "      <td>5.708202</td>\n",
              "      <td>7.685854</td>\n",
              "    </tr>\n",
              "    <tr>\n",
              "      <th>std</th>\n",
              "      <td>7.096917</td>\n",
              "      <td>0.250213</td>\n",
              "      <td>0.011464</td>\n",
              "      <td>5.013579</td>\n",
              "      <td>23.754463</td>\n",
              "      <td>NaN</td>\n",
              "      <td>3.217101e+05</td>\n",
              "      <td>0.160612</td>\n",
              "      <td>0.00318</td>\n",
              "      <td>8.464732</td>\n",
              "      <td>0.096303</td>\n",
              "      <td>0.004497</td>\n",
              "      <td>20.970678</td>\n",
              "      <td>120.019889</td>\n",
              "      <td>6.841070</td>\n",
              "      <td>1.205967</td>\n",
              "      <td>11.995965</td>\n",
              "    </tr>\n",
              "    <tr>\n",
              "      <th>min</th>\n",
              "      <td>-24.000000</td>\n",
              "      <td>0.000000</td>\n",
              "      <td>0.000000</td>\n",
              "      <td>26.800000</td>\n",
              "      <td>4.000000</td>\n",
              "      <td>NaN</td>\n",
              "      <td>-9.999000e+03</td>\n",
              "      <td>0.000000</td>\n",
              "      <td>0.00000</td>\n",
              "      <td>1.000000</td>\n",
              "      <td>0.000000</td>\n",
              "      <td>0.000000</td>\n",
              "      <td>0.000000</td>\n",
              "      <td>0.000000</td>\n",
              "      <td>25.900000</td>\n",
              "      <td>2.100000</td>\n",
              "      <td>0.000000</td>\n",
              "    </tr>\n",
              "    <tr>\n",
              "      <th>25%</th>\n",
              "      <td>10.000000</td>\n",
              "      <td>0.000000</td>\n",
              "      <td>0.000000</td>\n",
              "      <td>31.700000</td>\n",
              "      <td>39.000000</td>\n",
              "      <td>NaN</td>\n",
              "      <td>1.002000e+03</td>\n",
              "      <td>0.000000</td>\n",
              "      <td>0.00000</td>\n",
              "      <td>19.000000</td>\n",
              "      <td>0.000000</td>\n",
              "      <td>0.000000</td>\n",
              "      <td>1.500000</td>\n",
              "      <td>50.000000</td>\n",
              "      <td>33.300000</td>\n",
              "      <td>4.900000</td>\n",
              "      <td>0.000000</td>\n",
              "    </tr>\n",
              "    <tr>\n",
              "      <th>50%</th>\n",
              "      <td>15.000000</td>\n",
              "      <td>0.000000</td>\n",
              "      <td>0.000000</td>\n",
              "      <td>35.100000</td>\n",
              "      <td>58.000000</td>\n",
              "      <td>NaN</td>\n",
              "      <td>1.008000e+03</td>\n",
              "      <td>0.000000</td>\n",
              "      <td>0.00000</td>\n",
              "      <td>27.000000</td>\n",
              "      <td>0.000000</td>\n",
              "      <td>0.000000</td>\n",
              "      <td>2.000000</td>\n",
              "      <td>150.000000</td>\n",
              "      <td>37.000000</td>\n",
              "      <td>6.100000</td>\n",
              "      <td>7.400000</td>\n",
              "    </tr>\n",
              "    <tr>\n",
              "      <th>75%</th>\n",
              "      <td>22.000000</td>\n",
              "      <td>0.000000</td>\n",
              "      <td>0.000000</td>\n",
              "      <td>39.200000</td>\n",
              "      <td>77.000000</td>\n",
              "      <td>NaN</td>\n",
              "      <td>1.014000e+03</td>\n",
              "      <td>0.000000</td>\n",
              "      <td>0.00000</td>\n",
              "      <td>32.000000</td>\n",
              "      <td>0.000000</td>\n",
              "      <td>0.000000</td>\n",
              "      <td>3.000000</td>\n",
              "      <td>270.000000</td>\n",
              "      <td>40.700000</td>\n",
              "      <td>6.800000</td>\n",
              "      <td>11.100000</td>\n",
              "    </tr>\n",
              "    <tr>\n",
              "      <th>max</th>\n",
              "      <td>75.000000</td>\n",
              "      <td>1.000000</td>\n",
              "      <td>1.000000</td>\n",
              "      <td>73.600000</td>\n",
              "      <td>243.000000</td>\n",
              "      <td>NaN</td>\n",
              "      <td>1.010614e+08</td>\n",
              "      <td>1.000000</td>\n",
              "      <td>1.00000</td>\n",
              "      <td>90.000000</td>\n",
              "      <td>1.000000</td>\n",
              "      <td>1.000000</td>\n",
              "      <td>6436.000000</td>\n",
              "      <td>960.000000</td>\n",
              "      <td>92.600000</td>\n",
              "      <td>7.300000</td>\n",
              "      <td>1514.900000</td>\n",
              "    </tr>\n",
              "  </tbody>\n",
              "</table>\n",
              "</div>"
            ],
            "text/plain": [
              "            _dewptm          _fog  ...   _windchillm        _wspdm\n",
              "count  98294.000000  98913.000000  ...    573.000000  96560.000000\n",
              "mean      15.817130      0.067109  ...      5.708202      7.685854\n",
              "std        7.096917      0.250213  ...      1.205967     11.995965\n",
              "min      -24.000000      0.000000  ...      2.100000      0.000000\n",
              "25%       10.000000      0.000000  ...      4.900000      0.000000\n",
              "50%       15.000000      0.000000  ...      6.100000      7.400000\n",
              "75%       22.000000      0.000000  ...      6.800000     11.100000\n",
              "max       75.000000      1.000000  ...      7.300000   1514.900000\n",
              "\n",
              "[8 rows x 17 columns]"
            ]
          },
          "metadata": {
            "tags": []
          },
          "execution_count": 4
        }
      ]
    },
    {
      "cell_type": "code",
      "metadata": {
        "id": "wcq5Y-teVbjo",
        "colab_type": "code",
        "outputId": "f7bd342f-e887-49a9-f244-026b74274950",
        "colab": {
          "base_uri": "https://localhost:8080/",
          "height": 442
        }
      },
      "source": [
        "df.info()"
      ],
      "execution_count": 0,
      "outputs": [
        {
          "output_type": "stream",
          "text": [
            "<class 'pandas.core.frame.DataFrame'>\n",
            "RangeIndex: 98913 entries, 0 to 98912\n",
            "Data columns (total 20 columns):\n",
            "datetime_utc    98913 non-null object\n",
            " _conds         98845 non-null object\n",
            " _dewptm        98294 non-null float64\n",
            " _fog           98913 non-null int64\n",
            " _hail          98913 non-null int64\n",
            " _heatindexm    29111 non-null float64\n",
            " _hum           98160 non-null float64\n",
            " _precipm       0 non-null float64\n",
            " _pressurem     98682 non-null float64\n",
            " _rain          98913 non-null int64\n",
            " _snow          98913 non-null int64\n",
            " _tempm         98244 non-null float64\n",
            " _thunder       98913 non-null int64\n",
            " _tornado       98913 non-null int64\n",
            " _vism          94497 non-null float64\n",
            " _wdird         84533 non-null float64\n",
            " _wdire         84533 non-null object\n",
            " _wgustm        1063 non-null float64\n",
            " _windchillm    573 non-null float64\n",
            " _wspdm         96560 non-null float64\n",
            "dtypes: float64(11), int64(6), object(3)\n",
            "memory usage: 15.1+ MB\n"
          ],
          "name": "stdout"
        }
      ]
    },
    {
      "cell_type": "code",
      "metadata": {
        "id": "uVyfky17VeSW",
        "colab_type": "code",
        "outputId": "e2f7b593-eee0-423f-d9f2-7955a0f64287",
        "colab": {
          "base_uri": "https://localhost:8080/",
          "height": 340
        }
      },
      "source": [
        "df['datetime_utc'] = pd.to_datetime(df['datetime_utc'],infer_datetime_format=True)\n",
        "df = df.set_index(['datetime_utc'])\n",
        "df.head()"
      ],
      "execution_count": 0,
      "outputs": [
        {
          "output_type": "execute_result",
          "data": {
            "text/html": [
              "<div>\n",
              "<style scoped>\n",
              "    .dataframe tbody tr th:only-of-type {\n",
              "        vertical-align: middle;\n",
              "    }\n",
              "\n",
              "    .dataframe tbody tr th {\n",
              "        vertical-align: top;\n",
              "    }\n",
              "\n",
              "    .dataframe thead th {\n",
              "        text-align: right;\n",
              "    }\n",
              "</style>\n",
              "<table border=\"1\" class=\"dataframe\">\n",
              "  <thead>\n",
              "    <tr style=\"text-align: right;\">\n",
              "      <th></th>\n",
              "      <th>_conds</th>\n",
              "      <th>_dewptm</th>\n",
              "      <th>_fog</th>\n",
              "      <th>_hail</th>\n",
              "      <th>_heatindexm</th>\n",
              "      <th>_hum</th>\n",
              "      <th>_precipm</th>\n",
              "      <th>_pressurem</th>\n",
              "      <th>_rain</th>\n",
              "      <th>_snow</th>\n",
              "      <th>_tempm</th>\n",
              "      <th>_thunder</th>\n",
              "      <th>_tornado</th>\n",
              "      <th>_vism</th>\n",
              "      <th>_wdird</th>\n",
              "      <th>_wdire</th>\n",
              "      <th>_wgustm</th>\n",
              "      <th>_windchillm</th>\n",
              "      <th>_wspdm</th>\n",
              "    </tr>\n",
              "    <tr>\n",
              "      <th>datetime_utc</th>\n",
              "      <th></th>\n",
              "      <th></th>\n",
              "      <th></th>\n",
              "      <th></th>\n",
              "      <th></th>\n",
              "      <th></th>\n",
              "      <th></th>\n",
              "      <th></th>\n",
              "      <th></th>\n",
              "      <th></th>\n",
              "      <th></th>\n",
              "      <th></th>\n",
              "      <th></th>\n",
              "      <th></th>\n",
              "      <th></th>\n",
              "      <th></th>\n",
              "      <th></th>\n",
              "      <th></th>\n",
              "      <th></th>\n",
              "    </tr>\n",
              "  </thead>\n",
              "  <tbody>\n",
              "    <tr>\n",
              "      <th>1996-11-01 11:00:00</th>\n",
              "      <td>Smoke</td>\n",
              "      <td>9.0</td>\n",
              "      <td>0</td>\n",
              "      <td>0</td>\n",
              "      <td>NaN</td>\n",
              "      <td>27.0</td>\n",
              "      <td>NaN</td>\n",
              "      <td>1010.0</td>\n",
              "      <td>0</td>\n",
              "      <td>0</td>\n",
              "      <td>30.0</td>\n",
              "      <td>0</td>\n",
              "      <td>0</td>\n",
              "      <td>5.0</td>\n",
              "      <td>280.0</td>\n",
              "      <td>West</td>\n",
              "      <td>NaN</td>\n",
              "      <td>NaN</td>\n",
              "      <td>7.4</td>\n",
              "    </tr>\n",
              "    <tr>\n",
              "      <th>1996-11-01 12:00:00</th>\n",
              "      <td>Smoke</td>\n",
              "      <td>10.0</td>\n",
              "      <td>0</td>\n",
              "      <td>0</td>\n",
              "      <td>NaN</td>\n",
              "      <td>32.0</td>\n",
              "      <td>NaN</td>\n",
              "      <td>-9999.0</td>\n",
              "      <td>0</td>\n",
              "      <td>0</td>\n",
              "      <td>28.0</td>\n",
              "      <td>0</td>\n",
              "      <td>0</td>\n",
              "      <td>NaN</td>\n",
              "      <td>0.0</td>\n",
              "      <td>North</td>\n",
              "      <td>NaN</td>\n",
              "      <td>NaN</td>\n",
              "      <td>NaN</td>\n",
              "    </tr>\n",
              "    <tr>\n",
              "      <th>1996-11-01 13:00:00</th>\n",
              "      <td>Smoke</td>\n",
              "      <td>11.0</td>\n",
              "      <td>0</td>\n",
              "      <td>0</td>\n",
              "      <td>NaN</td>\n",
              "      <td>44.0</td>\n",
              "      <td>NaN</td>\n",
              "      <td>-9999.0</td>\n",
              "      <td>0</td>\n",
              "      <td>0</td>\n",
              "      <td>24.0</td>\n",
              "      <td>0</td>\n",
              "      <td>0</td>\n",
              "      <td>NaN</td>\n",
              "      <td>0.0</td>\n",
              "      <td>North</td>\n",
              "      <td>NaN</td>\n",
              "      <td>NaN</td>\n",
              "      <td>NaN</td>\n",
              "    </tr>\n",
              "    <tr>\n",
              "      <th>1996-11-01 14:00:00</th>\n",
              "      <td>Smoke</td>\n",
              "      <td>10.0</td>\n",
              "      <td>0</td>\n",
              "      <td>0</td>\n",
              "      <td>NaN</td>\n",
              "      <td>41.0</td>\n",
              "      <td>NaN</td>\n",
              "      <td>1010.0</td>\n",
              "      <td>0</td>\n",
              "      <td>0</td>\n",
              "      <td>24.0</td>\n",
              "      <td>0</td>\n",
              "      <td>0</td>\n",
              "      <td>2.0</td>\n",
              "      <td>0.0</td>\n",
              "      <td>North</td>\n",
              "      <td>NaN</td>\n",
              "      <td>NaN</td>\n",
              "      <td>NaN</td>\n",
              "    </tr>\n",
              "    <tr>\n",
              "      <th>1996-11-01 16:00:00</th>\n",
              "      <td>Smoke</td>\n",
              "      <td>11.0</td>\n",
              "      <td>0</td>\n",
              "      <td>0</td>\n",
              "      <td>NaN</td>\n",
              "      <td>47.0</td>\n",
              "      <td>NaN</td>\n",
              "      <td>1011.0</td>\n",
              "      <td>0</td>\n",
              "      <td>0</td>\n",
              "      <td>23.0</td>\n",
              "      <td>0</td>\n",
              "      <td>0</td>\n",
              "      <td>1.2</td>\n",
              "      <td>0.0</td>\n",
              "      <td>North</td>\n",
              "      <td>NaN</td>\n",
              "      <td>NaN</td>\n",
              "      <td>0.0</td>\n",
              "    </tr>\n",
              "  </tbody>\n",
              "</table>\n",
              "</div>"
            ],
            "text/plain": [
              "                     _conds   _dewptm   _fog  ...   _wgustm   _windchillm   _wspdm\n",
              "datetime_utc                                  ...                                 \n",
              "1996-11-01 11:00:00   Smoke       9.0      0  ...       NaN           NaN      7.4\n",
              "1996-11-01 12:00:00   Smoke      10.0      0  ...       NaN           NaN      NaN\n",
              "1996-11-01 13:00:00   Smoke      11.0      0  ...       NaN           NaN      NaN\n",
              "1996-11-01 14:00:00   Smoke      10.0      0  ...       NaN           NaN      NaN\n",
              "1996-11-01 16:00:00   Smoke      11.0      0  ...       NaN           NaN      0.0\n",
              "\n",
              "[5 rows x 19 columns]"
            ]
          },
          "metadata": {
            "tags": []
          },
          "execution_count": 6
        }
      ]
    },
    {
      "cell_type": "code",
      "metadata": {
        "id": "GlruvxwJWcNm",
        "colab_type": "code",
        "outputId": "bd1e7335-4114-44bc-a90f-9fae386c51ee",
        "colab": {
          "base_uri": "https://localhost:8080/",
          "height": 102
        }
      },
      "source": [
        "df.columns"
      ],
      "execution_count": 0,
      "outputs": [
        {
          "output_type": "execute_result",
          "data": {
            "text/plain": [
              "Index([' _conds', ' _dewptm', ' _fog', ' _hail', ' _heatindexm', ' _hum',\n",
              "       ' _precipm', ' _pressurem', ' _rain', ' _snow', ' _tempm', ' _thunder',\n",
              "       ' _tornado', ' _vism', ' _wdird', ' _wdire', ' _wgustm', ' _windchillm',\n",
              "       ' _wspdm'],\n",
              "      dtype='object')"
            ]
          },
          "metadata": {
            "tags": []
          },
          "execution_count": 7
        }
      ]
    },
    {
      "cell_type": "code",
      "metadata": {
        "id": "N-HjDqi4WS2e",
        "colab_type": "code",
        "outputId": "94b37ad2-7a08-4647-9f8e-4922412e03c4",
        "colab": {
          "base_uri": "https://localhost:8080/",
          "height": 235
        }
      },
      "source": [
        "forecast = df.drop([' _conds', ' _dewptm', ' _fog', ' _hail', ' _heatindexm', ' _hum',\n",
        "       ' _precipm', ' _pressurem', ' _rain', ' _snow',' _thunder',\n",
        "       ' _tornado', ' _vism', ' _wdird', ' _wdire', ' _wgustm', ' _windchillm',\n",
        "       ' _wspdm'],axis=1)\n",
        "\n",
        "forecast.head()"
      ],
      "execution_count": 0,
      "outputs": [
        {
          "output_type": "execute_result",
          "data": {
            "text/html": [
              "<div>\n",
              "<style scoped>\n",
              "    .dataframe tbody tr th:only-of-type {\n",
              "        vertical-align: middle;\n",
              "    }\n",
              "\n",
              "    .dataframe tbody tr th {\n",
              "        vertical-align: top;\n",
              "    }\n",
              "\n",
              "    .dataframe thead th {\n",
              "        text-align: right;\n",
              "    }\n",
              "</style>\n",
              "<table border=\"1\" class=\"dataframe\">\n",
              "  <thead>\n",
              "    <tr style=\"text-align: right;\">\n",
              "      <th></th>\n",
              "      <th>_tempm</th>\n",
              "    </tr>\n",
              "    <tr>\n",
              "      <th>datetime_utc</th>\n",
              "      <th></th>\n",
              "    </tr>\n",
              "  </thead>\n",
              "  <tbody>\n",
              "    <tr>\n",
              "      <th>1996-11-01 11:00:00</th>\n",
              "      <td>30.0</td>\n",
              "    </tr>\n",
              "    <tr>\n",
              "      <th>1996-11-01 12:00:00</th>\n",
              "      <td>28.0</td>\n",
              "    </tr>\n",
              "    <tr>\n",
              "      <th>1996-11-01 13:00:00</th>\n",
              "      <td>24.0</td>\n",
              "    </tr>\n",
              "    <tr>\n",
              "      <th>1996-11-01 14:00:00</th>\n",
              "      <td>24.0</td>\n",
              "    </tr>\n",
              "    <tr>\n",
              "      <th>1996-11-01 16:00:00</th>\n",
              "      <td>23.0</td>\n",
              "    </tr>\n",
              "  </tbody>\n",
              "</table>\n",
              "</div>"
            ],
            "text/plain": [
              "                      _tempm\n",
              "datetime_utc                \n",
              "1996-11-01 11:00:00     30.0\n",
              "1996-11-01 12:00:00     28.0\n",
              "1996-11-01 13:00:00     24.0\n",
              "1996-11-01 14:00:00     24.0\n",
              "1996-11-01 16:00:00     23.0"
            ]
          },
          "metadata": {
            "tags": []
          },
          "execution_count": 8
        }
      ]
    },
    {
      "cell_type": "code",
      "metadata": {
        "id": "TGeGYnacWrx3",
        "colab_type": "code",
        "outputId": "61f600d2-7e1b-4b65-de3f-b9d3881c3134",
        "colab": {
          "base_uri": "https://localhost:8080/",
          "height": 51
        }
      },
      "source": [
        "forecast.isna().sum()"
      ],
      "execution_count": 0,
      "outputs": [
        {
          "output_type": "execute_result",
          "data": {
            "text/plain": [
              " _tempm    669\n",
              "dtype: int64"
            ]
          },
          "metadata": {
            "tags": []
          },
          "execution_count": 9
        }
      ]
    },
    {
      "cell_type": "code",
      "metadata": {
        "id": "9ceVjmfRXEGq",
        "colab_type": "code",
        "outputId": "f88e827c-8020-4585-c5be-12c3ae86c9f1",
        "colab": {
          "base_uri": "https://localhost:8080/",
          "height": 297
        }
      },
      "source": [
        "forecast.describe()"
      ],
      "execution_count": 0,
      "outputs": [
        {
          "output_type": "execute_result",
          "data": {
            "text/html": [
              "<div>\n",
              "<style scoped>\n",
              "    .dataframe tbody tr th:only-of-type {\n",
              "        vertical-align: middle;\n",
              "    }\n",
              "\n",
              "    .dataframe tbody tr th {\n",
              "        vertical-align: top;\n",
              "    }\n",
              "\n",
              "    .dataframe thead th {\n",
              "        text-align: right;\n",
              "    }\n",
              "</style>\n",
              "<table border=\"1\" class=\"dataframe\">\n",
              "  <thead>\n",
              "    <tr style=\"text-align: right;\">\n",
              "      <th></th>\n",
              "      <th>_tempm</th>\n",
              "    </tr>\n",
              "  </thead>\n",
              "  <tbody>\n",
              "    <tr>\n",
              "      <th>count</th>\n",
              "      <td>98244.000000</td>\n",
              "    </tr>\n",
              "    <tr>\n",
              "      <th>mean</th>\n",
              "      <td>25.578427</td>\n",
              "    </tr>\n",
              "    <tr>\n",
              "      <th>std</th>\n",
              "      <td>8.464732</td>\n",
              "    </tr>\n",
              "    <tr>\n",
              "      <th>min</th>\n",
              "      <td>1.000000</td>\n",
              "    </tr>\n",
              "    <tr>\n",
              "      <th>25%</th>\n",
              "      <td>19.000000</td>\n",
              "    </tr>\n",
              "    <tr>\n",
              "      <th>50%</th>\n",
              "      <td>27.000000</td>\n",
              "    </tr>\n",
              "    <tr>\n",
              "      <th>75%</th>\n",
              "      <td>32.000000</td>\n",
              "    </tr>\n",
              "    <tr>\n",
              "      <th>max</th>\n",
              "      <td>90.000000</td>\n",
              "    </tr>\n",
              "  </tbody>\n",
              "</table>\n",
              "</div>"
            ],
            "text/plain": [
              "             _tempm\n",
              "count  98244.000000\n",
              "mean      25.578427\n",
              "std        8.464732\n",
              "min        1.000000\n",
              "25%       19.000000\n",
              "50%       27.000000\n",
              "75%       32.000000\n",
              "max       90.000000"
            ]
          },
          "metadata": {
            "tags": []
          },
          "execution_count": 10
        }
      ]
    },
    {
      "cell_type": "code",
      "metadata": {
        "id": "CO4YjtUIW3m5",
        "colab_type": "code",
        "outputId": "bbf92479-c6b1-4b13-fc4c-f07edaa4f762",
        "colab": {
          "base_uri": "https://localhost:8080/",
          "height": 235
        }
      },
      "source": [
        "forecast = forecast.dropna()\n",
        "forecast.head()"
      ],
      "execution_count": 0,
      "outputs": [
        {
          "output_type": "execute_result",
          "data": {
            "text/html": [
              "<div>\n",
              "<style scoped>\n",
              "    .dataframe tbody tr th:only-of-type {\n",
              "        vertical-align: middle;\n",
              "    }\n",
              "\n",
              "    .dataframe tbody tr th {\n",
              "        vertical-align: top;\n",
              "    }\n",
              "\n",
              "    .dataframe thead th {\n",
              "        text-align: right;\n",
              "    }\n",
              "</style>\n",
              "<table border=\"1\" class=\"dataframe\">\n",
              "  <thead>\n",
              "    <tr style=\"text-align: right;\">\n",
              "      <th></th>\n",
              "      <th>_tempm</th>\n",
              "    </tr>\n",
              "    <tr>\n",
              "      <th>datetime_utc</th>\n",
              "      <th></th>\n",
              "    </tr>\n",
              "  </thead>\n",
              "  <tbody>\n",
              "    <tr>\n",
              "      <th>1996-11-01 11:00:00</th>\n",
              "      <td>30.0</td>\n",
              "    </tr>\n",
              "    <tr>\n",
              "      <th>1996-11-01 12:00:00</th>\n",
              "      <td>28.0</td>\n",
              "    </tr>\n",
              "    <tr>\n",
              "      <th>1996-11-01 13:00:00</th>\n",
              "      <td>24.0</td>\n",
              "    </tr>\n",
              "    <tr>\n",
              "      <th>1996-11-01 14:00:00</th>\n",
              "      <td>24.0</td>\n",
              "    </tr>\n",
              "    <tr>\n",
              "      <th>1996-11-01 16:00:00</th>\n",
              "      <td>23.0</td>\n",
              "    </tr>\n",
              "  </tbody>\n",
              "</table>\n",
              "</div>"
            ],
            "text/plain": [
              "                      _tempm\n",
              "datetime_utc                \n",
              "1996-11-01 11:00:00     30.0\n",
              "1996-11-01 12:00:00     28.0\n",
              "1996-11-01 13:00:00     24.0\n",
              "1996-11-01 14:00:00     24.0\n",
              "1996-11-01 16:00:00     23.0"
            ]
          },
          "metadata": {
            "tags": []
          },
          "execution_count": 11
        }
      ]
    },
    {
      "cell_type": "code",
      "metadata": {
        "id": "n02cGHfpXOW7",
        "colab_type": "code",
        "outputId": "3c231e80-170f-40ff-c0d3-08359fccbc37",
        "colab": {
          "base_uri": "https://localhost:8080/",
          "height": 119
        }
      },
      "source": [
        "forecast.info()"
      ],
      "execution_count": 0,
      "outputs": [
        {
          "output_type": "stream",
          "text": [
            "<class 'pandas.core.frame.DataFrame'>\n",
            "DatetimeIndex: 98244 entries, 1996-11-01 11:00:00 to 2016-11-30 21:00:00\n",
            "Data columns (total 1 columns):\n",
            " _tempm    98244 non-null float64\n",
            "dtypes: float64(1)\n",
            "memory usage: 1.5 MB\n"
          ],
          "name": "stdout"
        }
      ]
    },
    {
      "cell_type": "code",
      "metadata": {
        "id": "1jQRTwXTXPol",
        "colab_type": "code",
        "outputId": "60bb0c32-fdd4-413d-edc0-d4eef524b2ff",
        "colab": {
          "base_uri": "https://localhost:8080/",
          "height": 530
        }
      },
      "source": [
        "plt.figure(figsize=(10,8))\n",
        "plt.plot(forecast)\n",
        "plt.xlabel('Date')\n",
        "plt.ylabel('temp')\n",
        "plt.title('Checking if the Data is stationary.')"
      ],
      "execution_count": 0,
      "outputs": [
        {
          "output_type": "execute_result",
          "data": {
            "text/plain": [
              "Text(0.5, 1.0, 'Checking if the Data is stationary.')"
            ]
          },
          "metadata": {
            "tags": []
          },
          "execution_count": 24
        },
        {
          "output_type": "display_data",
          "data": {
            "image/png": "[encoded data removed]",
            "text/plain": [
              "<Figure size 720x576 with 1 Axes>"
            ]
          },
          "metadata": {
            "tags": []
          }
        }
      ]
    },
    {
      "cell_type": "markdown",
      "metadata": {
        "id": "GH0Pc8FaYRaN",
        "colab_type": "text"
      },
      "source": [
        "# Rolling Stats"
      ]
    },
    {
      "cell_type": "code",
      "metadata": {
        "id": "3Z2DhBFZXjLd",
        "colab_type": "code",
        "colab": {}
      },
      "source": [
        "rolling_mean = forecast.rolling(window=24).mean()\n",
        "rolling_std = forecast.rolling(window=24).std()\n",
        "\n",
        "# print(rolling_mean,rolling_std)"
      ],
      "execution_count": 0,
      "outputs": []
    },
    {
      "cell_type": "code",
      "metadata": {
        "id": "ny-Wfn1haHiP",
        "colab_type": "code",
        "outputId": "1b632fe3-10cc-4ae2-b907-653e5449566f",
        "colab": {
          "base_uri": "https://localhost:8080/",
          "height": 516
        }
      },
      "source": [
        "plt.figure(figsize=(14,8))\n",
        "plt.plot(forecast,color='blue',label= 'Original')\n",
        "plt.plot(rolling_mean ,color = 'red',label='rolling_mean')\n",
        "plt.plot(rolling_std,color='black',label='rollig_std')\n",
        "plt.legend(loc='best')\n",
        "plt.title('Rolling Std and Mean')"
      ],
      "execution_count": 0,
      "outputs": [
        {
          "output_type": "execute_result",
          "data": {
            "text/plain": [
              "Text(0.5, 1.0, 'Rolling Std and Mean')"
            ]
          },
          "metadata": {
            "tags": []
          },
          "execution_count": 26
        },
        {
          "output_type": "display_data",
          "data": {
            "image/png": "[encoded data removed]",
            "text/plain": [
              "<Figure size 1008x576 with 1 Axes>"
            ]
          },
          "metadata": {
            "tags": []
          }
        }
      ]
    },
    {
      "cell_type": "code",
      "metadata": {
        "id": "TxjaqDOJayK8",
        "colab_type": "code",
        "colab": {}
      },
      "source": [
        "from statsmodels.tsa.stattools import adfuller"
      ],
      "execution_count": 0,
      "outputs": []
    },
    {
      "cell_type": "code",
      "metadata": {
        "id": "e1ei2FCFhSx2",
        "colab_type": "code",
        "outputId": "78dc6d08-4039-45bf-8018-6099c664e485",
        "colab": {
          "base_uri": "https://localhost:8080/",
          "height": 235
        }
      },
      "source": [
        "forecast.head()"
      ],
      "execution_count": 0,
      "outputs": [
        {
          "output_type": "execute_result",
          "data": {
            "text/html": [
              "<div>\n",
              "<style scoped>\n",
              "    .dataframe tbody tr th:only-of-type {\n",
              "        vertical-align: middle;\n",
              "    }\n",
              "\n",
              "    .dataframe tbody tr th {\n",
              "        vertical-align: top;\n",
              "    }\n",
              "\n",
              "    .dataframe thead th {\n",
              "        text-align: right;\n",
              "    }\n",
              "</style>\n",
              "<table border=\"1\" class=\"dataframe\">\n",
              "  <thead>\n",
              "    <tr style=\"text-align: right;\">\n",
              "      <th></th>\n",
              "      <th>_tempm</th>\n",
              "    </tr>\n",
              "    <tr>\n",
              "      <th>datetime_utc</th>\n",
              "      <th></th>\n",
              "    </tr>\n",
              "  </thead>\n",
              "  <tbody>\n",
              "    <tr>\n",
              "      <th>1996-11-01 11:00:00</th>\n",
              "      <td>30.0</td>\n",
              "    </tr>\n",
              "    <tr>\n",
              "      <th>1996-11-01 12:00:00</th>\n",
              "      <td>28.0</td>\n",
              "    </tr>\n",
              "    <tr>\n",
              "      <th>1996-11-01 13:00:00</th>\n",
              "      <td>24.0</td>\n",
              "    </tr>\n",
              "    <tr>\n",
              "      <th>1996-11-01 14:00:00</th>\n",
              "      <td>24.0</td>\n",
              "    </tr>\n",
              "    <tr>\n",
              "      <th>1996-11-01 16:00:00</th>\n",
              "      <td>23.0</td>\n",
              "    </tr>\n",
              "  </tbody>\n",
              "</table>\n",
              "</div>"
            ],
            "text/plain": [
              "                      _tempm\n",
              "datetime_utc                \n",
              "1996-11-01 11:00:00     30.0\n",
              "1996-11-01 12:00:00     28.0\n",
              "1996-11-01 13:00:00     24.0\n",
              "1996-11-01 14:00:00     24.0\n",
              "1996-11-01 16:00:00     23.0"
            ]
          },
          "metadata": {
            "tags": []
          },
          "execution_count": 28
        }
      ]
    },
    {
      "cell_type": "code",
      "metadata": {
        "id": "navwZPVWhudk",
        "colab_type": "code",
        "outputId": "db8c23ba-288e-4369-84c2-92a0bf7971ae",
        "colab": {
          "base_uri": "https://localhost:8080/",
          "height": 238
        }
      },
      "source": [
        "forecast[' _tempm']"
      ],
      "execution_count": 0,
      "outputs": [
        {
          "output_type": "execute_result",
          "data": {
            "text/plain": [
              "datetime_utc\n",
              "1996-11-01 11:00:00    30.0\n",
              "1996-11-01 12:00:00    28.0\n",
              "1996-11-01 13:00:00    24.0\n",
              "1996-11-01 14:00:00    24.0\n",
              "1996-11-01 16:00:00    23.0\n",
              "                       ... \n",
              "2016-11-30 12:30:00    21.0\n",
              "2016-11-30 13:00:00    19.0\n",
              "2016-11-30 15:00:00    17.0\n",
              "2016-11-30 18:00:00    15.0\n",
              "2016-11-30 21:00:00    14.0\n",
              "Name:  _tempm, Length: 98244, dtype: float64"
            ]
          },
          "metadata": {
            "tags": []
          },
          "execution_count": 29
        }
      ]
    },
    {
      "cell_type": "markdown",
      "metadata": {
        "id": "YNpge16hoa-L",
        "colab_type": "text"
      },
      "source": [
        "# ADFC TEST"
      ]
    },
    {
      "cell_type": "code",
      "metadata": {
        "id": "JKzraPw2ecuV",
        "colab_type": "code",
        "outputId": "687e85a8-d7d9-4fbd-9da3-8a7d8ef309e2",
        "colab": {
          "base_uri": "https://localhost:8080/",
          "height": 170
        }
      },
      "source": [
        "print(\"Print of ADFULLER Test\")\n",
        "\n",
        "adfuller_test = adfuller(forecast[' _tempm'],autolag='AIC',)\n",
        "\n",
        "adfuller_output = pd.Series(adfuller_test[0:4],index=['Test Stats','P-value','#Lags used','No of obs used'])\n",
        "\n",
        "for keys,value in adfuller_test[4].items():\n",
        "\n",
        "  adfuller_output['Critical value (%s)'%keys] = value\n",
        "\n",
        "print(adfuller_output)"
      ],
      "execution_count": 0,
      "outputs": [
        {
          "output_type": "stream",
          "text": [
            "Print of ADFULLER Test\n",
            "Test Stats             -7.523041e+00\n",
            "P-value                 3.746839e-11\n",
            "#Lags used              6.800000e+01\n",
            "No of obs used          9.817500e+04\n",
            "Critical value (1%)    -3.430417e+00\n",
            "Critical value (5%)    -2.861569e+00\n",
            "Critical value (10%)   -2.566786e+00\n",
            "dtype: float64\n"
          ],
          "name": "stdout"
        }
      ]
    },
    {
      "cell_type": "markdown",
      "metadata": {
        "id": "GxGTckbSoSaH",
        "colab_type": "text"
      },
      "source": [
        "### As the ADFC test shows and by Rolling stats we have a stationary data"
      ]
    },
    {
      "cell_type": "markdown",
      "metadata": {
        "id": "ilqcqGQBotWq",
        "colab_type": "text"
      },
      "source": [
        "## USING BASELINE MODEL"
      ]
    },
    {
      "cell_type": "code",
      "metadata": {
        "id": "D7e8kOZif5d8",
        "colab_type": "code",
        "colab": {}
      },
      "source": [
        "from sklearn.metrics import mean_squared_error"
      ],
      "execution_count": 0,
      "outputs": []
    },
    {
      "cell_type": "code",
      "metadata": {
        "id": "Ipv2iyw8jmQn",
        "colab_type": "code",
        "outputId": "03651dc4-e9ff-46a3-b16c-c97c1e9f9b6f",
        "colab": {
          "base_uri": "https://localhost:8080/",
          "height": 235
        }
      },
      "source": [
        "baseline_df = pd.concat([forecast[' _tempm'],forecast[' _tempm'].shift(1)],axis=1)\n",
        "baseline_df.head()"
      ],
      "execution_count": 0,
      "outputs": [
        {
          "output_type": "execute_result",
          "data": {
            "text/html": [
              "<div>\n",
              "<style scoped>\n",
              "    .dataframe tbody tr th:only-of-type {\n",
              "        vertical-align: middle;\n",
              "    }\n",
              "\n",
              "    .dataframe tbody tr th {\n",
              "        vertical-align: top;\n",
              "    }\n",
              "\n",
              "    .dataframe thead th {\n",
              "        text-align: right;\n",
              "    }\n",
              "</style>\n",
              "<table border=\"1\" class=\"dataframe\">\n",
              "  <thead>\n",
              "    <tr style=\"text-align: right;\">\n",
              "      <th></th>\n",
              "      <th>_tempm</th>\n",
              "      <th>_tempm</th>\n",
              "    </tr>\n",
              "    <tr>\n",
              "      <th>datetime_utc</th>\n",
              "      <th></th>\n",
              "      <th></th>\n",
              "    </tr>\n",
              "  </thead>\n",
              "  <tbody>\n",
              "    <tr>\n",
              "      <th>1996-11-01 11:00:00</th>\n",
              "      <td>30.0</td>\n",
              "      <td>NaN</td>\n",
              "    </tr>\n",
              "    <tr>\n",
              "      <th>1996-11-01 12:00:00</th>\n",
              "      <td>28.0</td>\n",
              "      <td>30.0</td>\n",
              "    </tr>\n",
              "    <tr>\n",
              "      <th>1996-11-01 13:00:00</th>\n",
              "      <td>24.0</td>\n",
              "      <td>28.0</td>\n",
              "    </tr>\n",
              "    <tr>\n",
              "      <th>1996-11-01 14:00:00</th>\n",
              "      <td>24.0</td>\n",
              "      <td>24.0</td>\n",
              "    </tr>\n",
              "    <tr>\n",
              "      <th>1996-11-01 16:00:00</th>\n",
              "      <td>23.0</td>\n",
              "      <td>24.0</td>\n",
              "    </tr>\n",
              "  </tbody>\n",
              "</table>\n",
              "</div>"
            ],
            "text/plain": [
              "                      _tempm   _tempm\n",
              "datetime_utc                         \n",
              "1996-11-01 11:00:00     30.0      NaN\n",
              "1996-11-01 12:00:00     28.0     30.0\n",
              "1996-11-01 13:00:00     24.0     28.0\n",
              "1996-11-01 14:00:00     24.0     24.0\n",
              "1996-11-01 16:00:00     23.0     24.0"
            ]
          },
          "metadata": {
            "tags": []
          },
          "execution_count": 32
        }
      ]
    },
    {
      "cell_type": "code",
      "metadata": {
        "id": "ZLEQGdFMpjHW",
        "colab_type": "code",
        "outputId": "4f24228e-02b8-4a22-f8ac-301e65402818",
        "colab": {
          "base_uri": "https://localhost:8080/",
          "height": 235
        }
      },
      "source": [
        "baseline_df.dropna(inplace=True)\n",
        "baseline_df.head()"
      ],
      "execution_count": 0,
      "outputs": [
        {
          "output_type": "execute_result",
          "data": {
            "text/html": [
              "<div>\n",
              "<style scoped>\n",
              "    .dataframe tbody tr th:only-of-type {\n",
              "        vertical-align: middle;\n",
              "    }\n",
              "\n",
              "    .dataframe tbody tr th {\n",
              "        vertical-align: top;\n",
              "    }\n",
              "\n",
              "    .dataframe thead th {\n",
              "        text-align: right;\n",
              "    }\n",
              "</style>\n",
              "<table border=\"1\" class=\"dataframe\">\n",
              "  <thead>\n",
              "    <tr style=\"text-align: right;\">\n",
              "      <th></th>\n",
              "      <th>_tempm</th>\n",
              "      <th>_tempm</th>\n",
              "    </tr>\n",
              "    <tr>\n",
              "      <th>datetime_utc</th>\n",
              "      <th></th>\n",
              "      <th></th>\n",
              "    </tr>\n",
              "  </thead>\n",
              "  <tbody>\n",
              "    <tr>\n",
              "      <th>1996-11-01 12:00:00</th>\n",
              "      <td>28.0</td>\n",
              "      <td>30.0</td>\n",
              "    </tr>\n",
              "    <tr>\n",
              "      <th>1996-11-01 13:00:00</th>\n",
              "      <td>24.0</td>\n",
              "      <td>28.0</td>\n",
              "    </tr>\n",
              "    <tr>\n",
              "      <th>1996-11-01 14:00:00</th>\n",
              "      <td>24.0</td>\n",
              "      <td>24.0</td>\n",
              "    </tr>\n",
              "    <tr>\n",
              "      <th>1996-11-01 16:00:00</th>\n",
              "      <td>23.0</td>\n",
              "      <td>24.0</td>\n",
              "    </tr>\n",
              "    <tr>\n",
              "      <th>1996-11-01 17:00:00</th>\n",
              "      <td>21.0</td>\n",
              "      <td>23.0</td>\n",
              "    </tr>\n",
              "  </tbody>\n",
              "</table>\n",
              "</div>"
            ],
            "text/plain": [
              "                      _tempm   _tempm\n",
              "datetime_utc                         \n",
              "1996-11-01 12:00:00     28.0     30.0\n",
              "1996-11-01 13:00:00     24.0     28.0\n",
              "1996-11-01 14:00:00     24.0     24.0\n",
              "1996-11-01 16:00:00     23.0     24.0\n",
              "1996-11-01 17:00:00     21.0     23.0"
            ]
          },
          "metadata": {
            "tags": []
          },
          "execution_count": 33
        }
      ]
    },
    {
      "cell_type": "code",
      "metadata": {
        "id": "aKTnkYAjp7bp",
        "colab_type": "code",
        "outputId": "9887f2e6-53c9-457f-e644-20eb5b6b7bc9",
        "colab": {
          "base_uri": "https://localhost:8080/",
          "height": 235
        }
      },
      "source": [
        "baseline_df.columns = ['Actual_temp',\"predicted_temp\"]\n",
        "baseline_df.head()"
      ],
      "execution_count": 0,
      "outputs": [
        {
          "output_type": "execute_result",
          "data": {
            "text/html": [
              "<div>\n",
              "<style scoped>\n",
              "    .dataframe tbody tr th:only-of-type {\n",
              "        vertical-align: middle;\n",
              "    }\n",
              "\n",
              "    .dataframe tbody tr th {\n",
              "        vertical-align: top;\n",
              "    }\n",
              "\n",
              "    .dataframe thead th {\n",
              "        text-align: right;\n",
              "    }\n",
              "</style>\n",
              "<table border=\"1\" class=\"dataframe\">\n",
              "  <thead>\n",
              "    <tr style=\"text-align: right;\">\n",
              "      <th></th>\n",
              "      <th>Actual_temp</th>\n",
              "      <th>predicted_temp</th>\n",
              "    </tr>\n",
              "    <tr>\n",
              "      <th>datetime_utc</th>\n",
              "      <th></th>\n",
              "      <th></th>\n",
              "    </tr>\n",
              "  </thead>\n",
              "  <tbody>\n",
              "    <tr>\n",
              "      <th>1996-11-01 12:00:00</th>\n",
              "      <td>28.0</td>\n",
              "      <td>30.0</td>\n",
              "    </tr>\n",
              "    <tr>\n",
              "      <th>1996-11-01 13:00:00</th>\n",
              "      <td>24.0</td>\n",
              "      <td>28.0</td>\n",
              "    </tr>\n",
              "    <tr>\n",
              "      <th>1996-11-01 14:00:00</th>\n",
              "      <td>24.0</td>\n",
              "      <td>24.0</td>\n",
              "    </tr>\n",
              "    <tr>\n",
              "      <th>1996-11-01 16:00:00</th>\n",
              "      <td>23.0</td>\n",
              "      <td>24.0</td>\n",
              "    </tr>\n",
              "    <tr>\n",
              "      <th>1996-11-01 17:00:00</th>\n",
              "      <td>21.0</td>\n",
              "      <td>23.0</td>\n",
              "    </tr>\n",
              "  </tbody>\n",
              "</table>\n",
              "</div>"
            ],
            "text/plain": [
              "                     Actual_temp  predicted_temp\n",
              "datetime_utc                                    \n",
              "1996-11-01 12:00:00         28.0            30.0\n",
              "1996-11-01 13:00:00         24.0            28.0\n",
              "1996-11-01 14:00:00         24.0            24.0\n",
              "1996-11-01 16:00:00         23.0            24.0\n",
              "1996-11-01 17:00:00         21.0            23.0"
            ]
          },
          "metadata": {
            "tags": []
          },
          "execution_count": 34
        }
      ]
    },
    {
      "cell_type": "code",
      "metadata": {
        "id": "aJhnbO1zpq38",
        "colab_type": "code",
        "outputId": "e2db1f32-2286-4601-a8d4-936c79576454",
        "colab": {
          "base_uri": "https://localhost:8080/",
          "height": 34
        }
      },
      "source": [
        "np.sqrt(mean_squared_error(baseline_df['Actual_temp'],baseline_df['predicted_temp']))"
      ],
      "execution_count": 0,
      "outputs": [
        {
          "output_type": "execute_result",
          "data": {
            "text/plain": [
              "2.6318009867663634"
            ]
          },
          "metadata": {
            "tags": []
          },
          "execution_count": 35
        }
      ]
    },
    {
      "cell_type": "markdown",
      "metadata": {
        "id": "OupLB5odqnCE",
        "colab_type": "text"
      },
      "source": [
        "### Using a baseline model we get an error of 2.63 that means we have could make an error of 2.63 from the actual value ; either more or less"
      ]
    },
    {
      "cell_type": "code",
      "metadata": {
        "id": "hQFYVSnDf0lT",
        "colab_type": "code",
        "outputId": "14716969-4dc2-4d7c-f0ff-1bc5c9a63a79",
        "colab": {
          "base_uri": "https://localhost:8080/",
          "height": 483
        }
      },
      "source": [
        "plt.figure(figsize=(10,8))\n",
        "baseline_df['Actual_temp'].plot(legend=True)\n",
        "baseline_df['predicted_temp'].plot(legend=True)"
      ],
      "execution_count": 0,
      "outputs": [
        {
          "output_type": "execute_result",
          "data": {
            "text/plain": [
              "<matplotlib.axes._subplots.AxesSubplot at 0x7ff5853c74a8>"
            ]
          },
          "metadata": {
            "tags": []
          },
          "execution_count": 46
        },
        {
          "output_type": "display_data",
          "data": {
            "image/png": "[encoded data removed]",
            "text/plain": [
              "<Figure size 720x576 with 1 Axes>"
            ]
          },
          "metadata": {
            "tags": []
          }
        }
      ]
    },
    {
      "cell_type": "code",
      "metadata": {
        "id": "R44sou1Nf0U3",
        "colab_type": "code",
        "outputId": "b905dcb6-ab6f-4e8f-acb9-3ff1da741bf9",
        "colab": {
          "base_uri": "https://localhost:8080/",
          "height": 493
        }
      },
      "source": [
        "actual_forecast = baseline_df['Actual_temp'][:50]\n",
        "pred_forecast = baseline_df['predicted_temp'][:50]\n",
        "\n",
        "plt.figure(figsize=(10,8))\n",
        "actual_forecast.plot(legend=True)\n",
        "pred_forecast.plot(legend=True)"
      ],
      "execution_count": 0,
      "outputs": [
        {
          "output_type": "execute_result",
          "data": {
            "text/plain": [
              "<matplotlib.axes._subplots.AxesSubplot at 0x7ff5833b3240>"
            ]
          },
          "metadata": {
            "tags": []
          },
          "execution_count": 65
        },
        {
          "output_type": "display_data",
          "data": {
            "image/png": "[encoded data removed]",
            "text/plain": [
              "<Figure size 720x576 with 1 Axes>"
            ]
          },
          "metadata": {
            "tags": []
          }
        }
      ]
    },
    {
      "cell_type": "markdown",
      "metadata": {
        "id": "LopVX1p4lvbp",
        "colab_type": "text"
      },
      "source": [
        "#### Now we would be using ARIMA model to predict the weather values.\n",
        "\n",
        "#### ARIMA  =  AutoRegressive(p) Integrated(d) Moving Average(q)\n",
        "\n",
        "\n",
        "#### We will find the values of q with the plot_acf and value of p with the plot_pacf ; the value of d is usually in the range of [1,2] "
      ]
    },
    {
      "cell_type": "code",
      "metadata": {
        "id": "WEthDifJrSyy",
        "colab_type": "code",
        "colab": {}
      },
      "source": [
        "from statsmodels.graphics.tsaplots import plot_acf,plot_pacf"
      ],
      "execution_count": 0,
      "outputs": []
    },
    {
      "cell_type": "code",
      "metadata": {
        "id": "JgJeIKPdrSsT",
        "colab_type": "code",
        "outputId": "34d157b0-8c8d-4eb2-ec5e-e1725749a039",
        "colab": {
          "base_uri": "https://localhost:8080/",
          "height": 545
        }
      },
      "source": [
        "plot_acf(forecast)"
      ],
      "execution_count": 0,
      "outputs": [
        {
          "output_type": "execute_result",
          "data": {
            "image/png": "[encoded data removed]",
            "text/plain": [
              "<Figure size 432x288 with 1 Axes>"
            ]
          },
          "metadata": {
            "tags": []
          },
          "execution_count": 38
        },
        {
          "output_type": "display_data",
          "data": {
            "image/png": "[encoded data removed]",
            "text/plain": [
              "<Figure size 432x288 with 1 Axes>"
            ]
          },
          "metadata": {
            "tags": []
          }
        }
      ]
    },
    {
      "cell_type": "code",
      "metadata": {
        "id": "6987SwRBrSph",
        "colab_type": "code",
        "colab": {}
      },
      "source": [
        "# SO the values of Q can be [2,3,4]"
      ],
      "execution_count": 0,
      "outputs": []
    },
    {
      "cell_type": "code",
      "metadata": {
        "id": "-UUD2SPrrSmQ",
        "colab_type": "code",
        "outputId": "3e74f776-d800-466d-dded-948da25db054",
        "colab": {
          "base_uri": "https://localhost:8080/",
          "height": 545
        }
      },
      "source": [
        "plot_pacf(forecast)"
      ],
      "execution_count": 0,
      "outputs": [
        {
          "output_type": "execute_result",
          "data": {
            "image/png": "[encoded data removed]",
            "text/plain": [
              "<Figure size 432x288 with 1 Axes>"
            ]
          },
          "metadata": {
            "tags": []
          },
          "execution_count": 40
        },
        {
          "output_type": "display_data",
          "data": {
            "image/png": "[encoded data removed]",
            "text/plain": [
              "<Figure size 432x288 with 1 Axes>"
            ]
          },
          "metadata": {
            "tags": []
          }
        }
      ]
    },
    {
      "cell_type": "code",
      "metadata": {
        "id": "_KRnN1hNtURP",
        "colab_type": "code",
        "colab": {}
      },
      "source": [
        "# SO we can take P value as [1,3,4]"
      ],
      "execution_count": 0,
      "outputs": []
    },
    {
      "cell_type": "code",
      "metadata": {
        "id": "povHZOGptn2H",
        "colab_type": "code",
        "outputId": "49f82a6c-4661-408d-a6f8-8cf29f57c032",
        "colab": {
          "base_uri": "https://localhost:8080/",
          "height": 34
        }
      },
      "source": [
        "train = forecast[0:round(len(forecast)*.8)]\n",
        "train.size"
      ],
      "execution_count": 0,
      "outputs": [
        {
          "output_type": "execute_result",
          "data": {
            "text/plain": [
              "78595"
            ]
          },
          "metadata": {
            "tags": []
          },
          "execution_count": 42
        }
      ]
    },
    {
      "cell_type": "code",
      "metadata": {
        "id": "-FBjKpYCM2BW",
        "colab_type": "code",
        "outputId": "60f7d055-530e-4aab-c5de-5722822d54e9",
        "colab": {
          "base_uri": "https://localhost:8080/",
          "height": 34
        }
      },
      "source": [
        "train.shape"
      ],
      "execution_count": 0,
      "outputs": [
        {
          "output_type": "execute_result",
          "data": {
            "text/plain": [
              "(78595, 1)"
            ]
          },
          "metadata": {
            "tags": []
          },
          "execution_count": 43
        }
      ]
    },
    {
      "cell_type": "code",
      "metadata": {
        "id": "NHM4rFg3tnzv",
        "colab_type": "code",
        "outputId": "01a1fd38-f4c9-4898-c653-0810c381cff3",
        "colab": {
          "base_uri": "https://localhost:8080/",
          "height": 34
        }
      },
      "source": [
        "test = forecast[round(len(forecast)*.8):]\n",
        "test.size"
      ],
      "execution_count": 0,
      "outputs": [
        {
          "output_type": "execute_result",
          "data": {
            "text/plain": [
              "19649"
            ]
          },
          "metadata": {
            "tags": []
          },
          "execution_count": 44
        }
      ]
    },
    {
      "cell_type": "code",
      "metadata": {
        "id": "xXc6_V0ttnxM",
        "colab_type": "code",
        "colab": {}
      },
      "source": [
        "from statsmodels.tsa.arima_model import ARIMA"
      ],
      "execution_count": 0,
      "outputs": []
    },
    {
      "cell_type": "code",
      "metadata": {
        "id": "lRJFmohFR7en",
        "colab_type": "code",
        "colab": {}
      },
      "source": [
        "p_value = range(0,5)\n",
        "q_value = range(0,5)\n",
        "d_value = range(0,3)"
      ],
      "execution_count": 0,
      "outputs": []
    },
    {
      "cell_type": "code",
      "metadata": {
        "id": "HGLV_oPvoq7q",
        "colab_type": "code",
        "colab": {}
      },
      "source": [
        "import warnings \n",
        "warnings.filterwarnings('ignore')"
      ],
      "execution_count": 0,
      "outputs": []
    },
    {
      "cell_type": "code",
      "metadata": {
        "id": "X4gPHazQR7dK",
        "colab_type": "code",
        "outputId": "e46d9069-a8b7-45cf-89a8-06827f42977b",
        "colab": {
          "base_uri": "https://localhost:8080/",
          "height": 1000
        }
      },
      "source": [
        "for p in p_value:\n",
        "  for q in q_value:\n",
        "    for d in d_value:\n",
        "      order = (p,d,q)\n",
        "      try:\n",
        "          \n",
        "        model = ARIMA(train,order=order).fit(disp=0)\n",
        "\n",
        "        print(f\"The AIC for this {order } is {model.aic}\")\n",
        "\n",
        "        predictions = model.forecast(steps=len(test))[0]\n",
        "        error = np.sqrt(mean_squared_error(predictions,test))\n",
        "\n",
        "        print(f\"The error is {error}\\n\")\n",
        "      except:\n",
        "        continue\n"
      ],
      "execution_count": 0,
      "outputs": [
        {
          "output_type": "stream",
          "text": [
            "The AIC for this (0, 0, 0) is 559477.097917704\n",
            "The error is 8.316581323999351\n",
            "\n",
            "The AIC for this (0, 1, 0) is 358624.731775008\n",
            "The error is 20.360294140131085\n",
            "\n",
            "The AIC for this (0, 2, 0) is 386622.5498092899\n",
            "The error is 10299.721187206043\n",
            "\n",
            "The AIC for this (0, 0, 1) is 473942.4411724516\n",
            "The error is 8.316111290769022\n",
            "\n",
            "The AIC for this (0, 1, 1) is 351259.74242731615\n",
            "The error is 20.503470229825226\n",
            "\n",
            "The AIC for this (0, 2, 1) is 358635.8649952054\n",
            "The error is 26.12584568623693\n",
            "\n",
            "The AIC for this (0, 1, 2) is 350986.5833505594\n",
            "The error is 20.730220337556126\n",
            "\n",
            "The AIC for this (0, 2, 2) is 351269.3430239993\n",
            "The error is 27.282132184931\n",
            "\n",
            "The AIC for this (0, 1, 3) is 348055.88498152525\n",
            "The error is 18.797497133617423\n",
            "\n",
            "The AIC for this (0, 2, 3) is 350995.9568317558\n",
            "The error is 26.27648327620529\n",
            "\n",
            "The AIC for this (0, 1, 4) is 344270.8083163495\n",
            "The error is 13.6510807141584\n",
            "\n",
            "The AIC for this (1, 0, 0) is 357093.8250473398\n",
            "The error is 8.300654618717049\n",
            "\n",
            "The AIC for this (1, 1, 0) is 351920.44014638785\n",
            "The error is 20.873564110978737\n",
            "\n",
            "The AIC for this (1, 2, 0) is 381092.24994713627\n",
            "The error is 12423.460155615396\n",
            "\n",
            "The AIC for this (1, 0, 1) is 348908.60426146525\n",
            "The error is 8.306682127853223\n",
            "\n",
            "The AIC for this (1, 1, 1) is 351153.60092348896\n",
            "The error is 20.603055746763147\n",
            "\n",
            "The AIC for this (1, 0, 2) is 348154.13449450734\n",
            "The error is 8.308838760256156\n",
            "\n",
            "The AIC for this (1, 1, 2) is 343018.95029763674\n",
            "The error is 12.068566729891334\n",
            "\n",
            "The AIC for this (1, 0, 3) is 346817.6008412628\n",
            "The error is 8.300312354315992\n",
            "\n",
            "The AIC for this (1, 1, 3) is 340208.2904023559\n",
            "The error is 12.353407257330357\n",
            "\n",
            "The AIC for this (1, 0, 4) is 344244.0636666033\n",
            "The error is 8.215554903433699\n",
            "\n",
            "The AIC for this (1, 1, 4) is 340147.9648487166\n",
            "The error is 12.395225590182122\n",
            "\n",
            "The AIC for this (2, 0, 0) is 349076.76954273734\n",
            "The error is 8.308946983435314\n",
            "\n",
            "The AIC for this (2, 1, 0) is 350139.4901995496\n",
            "The error is 20.171199530313636\n",
            "\n",
            "The AIC for this (2, 2, 0) is 378349.0930808984\n",
            "The error is 12688.560379713286\n",
            "\n",
            "The AIC for this (2, 0, 1) is 348550.72050052934\n",
            "The error is 8.308106715658315\n",
            "\n",
            "The AIC for this (2, 1, 1) is 340326.273534741\n",
            "The error is 12.559157472284511\n",
            "\n",
            "The AIC for this (2, 0, 2) is 343013.51764958526\n",
            "The error is 8.3808793899662\n",
            "\n",
            "The AIC for this (2, 1, 2) is 333511.27436608216\n",
            "The error is 16.510646954754563\n",
            "\n",
            "The AIC for this (2, 2, 2) is 340442.113451129\n",
            "The error is 338.7711295763481\n",
            "\n",
            "The AIC for this (2, 0, 3) is 340201.8281358211\n",
            "The error is 8.373643043883122\n",
            "\n",
            "The AIC for this (2, 1, 3) is 333084.7842386973\n",
            "The error is 16.925956331770397\n",
            "\n",
            "The AIC for this (2, 0, 4) is 340141.27876135684\n",
            "The error is 8.370766362802467\n",
            "\n",
            "The AIC for this (2, 1, 4) is 332778.1971514544\n",
            "The error is 16.414060154725423\n",
            "\n",
            "The AIC for this (3, 0, 0) is 347970.437885627\n",
            "The error is 8.306433757688204\n",
            "\n",
            "The AIC for this (3, 1, 0) is 346663.6546900691\n",
            "The error is 19.41320380549685\n",
            "\n",
            "The AIC for this (3, 2, 0) is 374182.4474166202\n",
            "The error is 20385.884361950364\n",
            "\n",
            "The AIC for this (3, 0, 1) is 340318.4609534986\n",
            "The error is 8.358909108220361\n",
            "\n",
            "The AIC for this (3, 1, 1) is 340325.0028636875\n",
            "The error is 12.575218460357336\n",
            "\n",
            "The AIC for this (3, 0, 2) is 332435.5800473804\n",
            "The error is 8.29672043744169\n",
            "\n",
            "The AIC for this (3, 1, 2) is 333158.06388827815\n",
            "The error is 16.900375963902327\n",
            "\n",
            "The AIC for this (3, 2, 2) is 341093.05296553776\n",
            "The error is 50.09467250318554\n",
            "\n",
            "The AIC for this (3, 0, 3) is 331835.99428987806\n",
            "The error is 8.299387260365139\n",
            "\n",
            "The AIC for this (3, 1, 3) is 332958.75912074797\n",
            "The error is 16.78187617579257\n",
            "\n",
            "The AIC for this (3, 0, 4) is 331666.17306009505\n",
            "The error is 8.297865364020875\n",
            "\n",
            "The AIC for this (3, 1, 4) is 328058.95054626936\n",
            "The error is 11.774428700146311\n",
            "\n",
            "The AIC for this (4, 0, 0) is 345211.4918296702\n",
            "The error is 8.300930309044853\n",
            "\n",
            "The AIC for this (4, 1, 0) is 344716.21184452006\n",
            "The error is 18.162632957911708\n",
            "\n",
            "The AIC for this (4, 2, 0) is 371883.90853476874\n",
            "The error is 23852.17330186866\n",
            "\n",
            "The AIC for this (4, 0, 1) is 342720.4850908092\n",
            "The error is 8.287088071438987\n",
            "\n",
            "The AIC for this (4, 1, 1) is 339755.56099906395\n",
            "The error is 12.380611879220305\n",
            "\n",
            "The AIC for this (4, 0, 2) is 331919.1465313114\n",
            "The error is 8.298944560612274\n",
            "\n",
            "The AIC for this (4, 1, 2) is 332650.467516799\n",
            "The error is 16.254806397413958\n",
            "\n",
            "The AIC for this (4, 2, 2) is 343051.415509247\n",
            "The error is 40.38289416532057\n",
            "\n",
            "The AIC for this (4, 0, 3) is 331748.9907413978\n",
            "The error is 8.298673667367675\n",
            "\n",
            "The AIC for this (4, 1, 3) is 332652.4117245035\n",
            "The error is 16.25616384883303\n",
            "\n",
            "The AIC for this (4, 0, 4) is 328055.93871938175\n",
            "The error is 8.36342441052328\n",
            "\n",
            "The AIC for this (4, 1, 4) is 327205.653615456\n",
            "The error is 16.243007640968465\n",
            "\n"
          ],
          "name": "stdout"
        }
      ]
    },
    {
      "cell_type": "code",
      "metadata": {
        "id": "USt5b7Aftnue",
        "colab_type": "code",
        "outputId": "94ee56ca-9699-4a15-a30f-18c37e37d23e",
        "colab": {
          "base_uri": "https://localhost:8080/",
          "height": 71
        }
      },
      "source": [
        "weather_model = ARIMA(train,order=(1,0,4)).fit()"
      ],
      "execution_count": 0,
      "outputs": [
        {
          "output_type": "stream",
          "text": [
            "/usr/local/lib/python3.6/dist-packages/statsmodels/tsa/base/tsa_model.py:219: ValueWarning: A date index has been provided, but it has no associated frequency information and so will be ignored when e.g. forecasting.\n",
            "  ' ignored when e.g. forecasting.', ValueWarning)\n"
          ],
          "name": "stderr"
        }
      ]
    },
    {
      "cell_type": "code",
      "metadata": {
        "id": "PG7gLgMxL2mF",
        "colab_type": "code",
        "outputId": "6d32fa2d-7146-4746-b85b-d8689c193851",
        "colab": {
          "base_uri": "https://localhost:8080/",
          "height": 34
        }
      },
      "source": [
        "weather_model.aic"
      ],
      "execution_count": 0,
      "outputs": [
        {
          "output_type": "execute_result",
          "data": {
            "text/plain": [
              "344244.0636666033"
            ]
          },
          "metadata": {
            "tags": []
          },
          "execution_count": 48
        }
      ]
    },
    {
      "cell_type": "code",
      "metadata": {
        "id": "VSyKK4rriIo9",
        "colab_type": "code",
        "outputId": "e04f7c58-b255-4336-d20d-c536b086e9df",
        "colab": {
          "base_uri": "https://localhost:8080/",
          "height": 460
        }
      },
      "source": [
        "weather_model.summary()"
      ],
      "execution_count": 0,
      "outputs": [
        {
          "output_type": "execute_result",
          "data": {
            "text/html": [
              "<table class=\"simpletable\">\n",
              "<caption>ARMA Model Results</caption>\n",
              "<tr>\n",
              "  <th>Dep. Variable:</th>      <td> _tempm</td>     <th>  No. Observations:  </th>    <td>78595</td>   \n",
              "</tr>\n",
              "<tr>\n",
              "  <th>Model:</th>            <td>ARMA(1, 4)</td>    <th>  Log Likelihood     </th> <td>-172115.032</td>\n",
              "</tr>\n",
              "<tr>\n",
              "  <th>Method:</th>             <td>css-mle</td>     <th>  S.D. of innovations</th>    <td>2.162</td>   \n",
              "</tr>\n",
              "<tr>\n",
              "  <th>Date:</th>          <td>Wed, 29 Jan 2020</td> <th>  AIC                </th> <td>344244.064</td> \n",
              "</tr>\n",
              "<tr>\n",
              "  <th>Time:</th>              <td>13:41:10</td>     <th>  BIC                </th> <td>344308.968</td> \n",
              "</tr>\n",
              "<tr>\n",
              "  <th>Sample:</th>                <td>0</td>        <th>  HQIC               </th> <td>344263.976</td> \n",
              "</tr>\n",
              "<tr>\n",
              "  <th></th>                       <td> </td>        <th>                     </th>      <td> </td>     \n",
              "</tr>\n",
              "</table>\n",
              "<table class=\"simpletable\">\n",
              "<tr>\n",
              "        <td></td>           <th>coef</th>     <th>std err</th>      <th>z</th>      <th>P>|z|</th>  <th>[0.025</th>    <th>0.975]</th>  \n",
              "</tr>\n",
              "<tr>\n",
              "  <th>const</th>         <td>   25.3617</td> <td>    1.209</td> <td>   20.982</td> <td> 0.000</td> <td>   22.993</td> <td>   27.731</td>\n",
              "</tr>\n",
              "<tr>\n",
              "  <th>ar.L1. _tempm</th> <td>    0.9990</td> <td>    0.000</td> <td> 5834.169</td> <td> 0.000</td> <td>    0.999</td> <td>    0.999</td>\n",
              "</tr>\n",
              "<tr>\n",
              "  <th>ma.L1. _tempm</th> <td>    0.1800</td> <td>    0.003</td> <td>   52.898</td> <td> 0.000</td> <td>    0.173</td> <td>    0.187</td>\n",
              "</tr>\n",
              "<tr>\n",
              "  <th>ma.L2. _tempm</th> <td>   -0.2505</td> <td>    0.003</td> <td>  -78.713</td> <td> 0.000</td> <td>   -0.257</td> <td>   -0.244</td>\n",
              "</tr>\n",
              "<tr>\n",
              "  <th>ma.L3. _tempm</th> <td>   -0.4876</td> <td>    0.003</td> <td> -140.772</td> <td> 0.000</td> <td>   -0.494</td> <td>   -0.481</td>\n",
              "</tr>\n",
              "<tr>\n",
              "  <th>ma.L4. _tempm</th> <td>   -0.2909</td> <td>    0.003</td> <td>  -92.368</td> <td> 0.000</td> <td>   -0.297</td> <td>   -0.285</td>\n",
              "</tr>\n",
              "</table>\n",
              "<table class=\"simpletable\">\n",
              "<caption>Roots</caption>\n",
              "<tr>\n",
              "    <td></td>   <th>            Real</th>  <th>         Imaginary</th> <th>         Modulus</th>  <th>        Frequency</th>\n",
              "</tr>\n",
              "<tr>\n",
              "  <th>AR.1</th> <td>           1.0010</td> <td>          +0.0000j</td> <td>           1.0010</td> <td>           0.0000</td>\n",
              "</tr>\n",
              "<tr>\n",
              "  <th>MA.1</th> <td>           1.0484</td> <td>          -0.0000j</td> <td>           1.0484</td> <td>          -0.0000</td>\n",
              "</tr>\n",
              "<tr>\n",
              "  <th>MA.2</th> <td>          -0.5253</td> <td>          -1.2973j</td> <td>           1.3996</td> <td>          -0.3112</td>\n",
              "</tr>\n",
              "<tr>\n",
              "  <th>MA.3</th> <td>          -0.5253</td> <td>          +1.2973j</td> <td>           1.3996</td> <td>           0.3112</td>\n",
              "</tr>\n",
              "<tr>\n",
              "  <th>MA.4</th> <td>          -1.6738</td> <td>          -0.0000j</td> <td>           1.6738</td> <td>          -0.5000</td>\n",
              "</tr>\n",
              "</table>"
            ],
            "text/plain": [
              "<class 'statsmodels.iolib.summary.Summary'>\n",
              "\"\"\"\n",
              "                              ARMA Model Results                              \n",
              "==============================================================================\n",
              "Dep. Variable:                 _tempm   No. Observations:                78595\n",
              "Model:                     ARMA(1, 4)   Log Likelihood             -172115.032\n",
              "Method:                       css-mle   S.D. of innovations              2.162\n",
              "Date:                Wed, 29 Jan 2020   AIC                         344244.064\n",
              "Time:                        13:41:10   BIC                         344308.968\n",
              "Sample:                             0   HQIC                        344263.976\n",
              "                                                                              \n",
              "=================================================================================\n",
              "                    coef    std err          z      P>|z|      [0.025      0.975]\n",
              "---------------------------------------------------------------------------------\n",
              "const            25.3617      1.209     20.982      0.000      22.993      27.731\n",
              "ar.L1. _tempm     0.9990      0.000   5834.169      0.000       0.999       0.999\n",
              "ma.L1. _tempm     0.1800      0.003     52.898      0.000       0.173       0.187\n",
              "ma.L2. _tempm    -0.2505      0.003    -78.713      0.000      -0.257      -0.244\n",
              "ma.L3. _tempm    -0.4876      0.003   -140.772      0.000      -0.494      -0.481\n",
              "ma.L4. _tempm    -0.2909      0.003    -92.368      0.000      -0.297      -0.285\n",
              "                                    Roots                                    \n",
              "=============================================================================\n",
              "                  Real          Imaginary           Modulus         Frequency\n",
              "-----------------------------------------------------------------------------\n",
              "AR.1            1.0010           +0.0000j            1.0010            0.0000\n",
              "MA.1            1.0484           -0.0000j            1.0484           -0.0000\n",
              "MA.2           -0.5253           -1.2973j            1.3996           -0.3112\n",
              "MA.3           -0.5253           +1.2973j            1.3996            0.3112\n",
              "MA.4           -1.6738           -0.0000j            1.6738           -0.5000\n",
              "-----------------------------------------------------------------------------\n",
              "\"\"\""
            ]
          },
          "metadata": {
            "tags": []
          },
          "execution_count": 52
        }
      ]
    },
    {
      "cell_type": "code",
      "metadata": {
        "id": "t1JLltPNP8Of",
        "colab_type": "code",
        "colab": {}
      },
      "source": [
        "weather_forecast = weather_model.forecast(steps=19649)[0]"
      ],
      "execution_count": 0,
      "outputs": []
    },
    {
      "cell_type": "code",
      "metadata": {
        "id": "atDT_51Ph8Jc",
        "colab_type": "code",
        "outputId": "3b459fca-bc20-4bb6-9a38-ea4b9f140fef",
        "colab": {
          "base_uri": "https://localhost:8080/",
          "height": 71
        }
      },
      "source": [
        "expected_forecast = weather_model.predict(start=round(len(forecast)*.8),end=len(forecast)-1)"
      ],
      "execution_count": 0,
      "outputs": [
        {
          "output_type": "stream",
          "text": [
            "/usr/local/lib/python3.6/dist-packages/statsmodels/tsa/base/tsa_model.py:576: ValueWarning: No supported index is available. Prediction results will be given with an integer index beginning at `start`.\n",
            "  ValueWarning)\n"
          ],
          "name": "stderr"
        }
      ]
    },
    {
      "cell_type": "code",
      "metadata": {
        "id": "6fSN4Abui9w6",
        "colab_type": "code",
        "outputId": "da67db86-eed6-4953-adb5-91ed7174c21a",
        "colab": {
          "base_uri": "https://localhost:8080/",
          "height": 34
        }
      },
      "source": [
        "np.sqrt(mean_squared_error(expected_forecast,test))"
      ],
      "execution_count": 0,
      "outputs": [
        {
          "output_type": "execute_result",
          "data": {
            "text/plain": [
              "8.215554903433699"
            ]
          },
          "metadata": {
            "tags": []
          },
          "execution_count": 56
        }
      ]
    },
    {
      "cell_type": "code",
      "metadata": {
        "id": "FBpOTtE-j628",
        "colab_type": "code",
        "outputId": "95fe44f4-8dc3-44bf-9bc7-4c3520f96a90",
        "colab": {
          "base_uri": "https://localhost:8080/",
          "height": 235
        }
      },
      "source": [
        "test[:5]"
      ],
      "execution_count": 0,
      "outputs": [
        {
          "output_type": "execute_result",
          "data": {
            "text/html": [
              "<div>\n",
              "<style scoped>\n",
              "    .dataframe tbody tr th:only-of-type {\n",
              "        vertical-align: middle;\n",
              "    }\n",
              "\n",
              "    .dataframe tbody tr th {\n",
              "        vertical-align: top;\n",
              "    }\n",
              "\n",
              "    .dataframe thead th {\n",
              "        text-align: right;\n",
              "    }\n",
              "</style>\n",
              "<table border=\"1\" class=\"dataframe\">\n",
              "  <thead>\n",
              "    <tr style=\"text-align: right;\">\n",
              "      <th></th>\n",
              "      <th>_tempm</th>\n",
              "    </tr>\n",
              "    <tr>\n",
              "      <th>datetime_utc</th>\n",
              "      <th></th>\n",
              "    </tr>\n",
              "  </thead>\n",
              "  <tbody>\n",
              "    <tr>\n",
              "      <th>2010-12-02 03:00:00</th>\n",
              "      <td>10.0</td>\n",
              "    </tr>\n",
              "    <tr>\n",
              "      <th>2010-12-02 06:00:00</th>\n",
              "      <td>21.0</td>\n",
              "    </tr>\n",
              "    <tr>\n",
              "      <th>2010-12-02 09:00:00</th>\n",
              "      <td>23.0</td>\n",
              "    </tr>\n",
              "    <tr>\n",
              "      <th>2010-12-02 12:00:00</th>\n",
              "      <td>20.0</td>\n",
              "    </tr>\n",
              "    <tr>\n",
              "      <th>2010-12-02 15:00:00</th>\n",
              "      <td>14.0</td>\n",
              "    </tr>\n",
              "  </tbody>\n",
              "</table>\n",
              "</div>"
            ],
            "text/plain": [
              "                      _tempm\n",
              "datetime_utc                \n",
              "2010-12-02 03:00:00     10.0\n",
              "2010-12-02 06:00:00     21.0\n",
              "2010-12-02 09:00:00     23.0\n",
              "2010-12-02 12:00:00     20.0\n",
              "2010-12-02 15:00:00     14.0"
            ]
          },
          "metadata": {
            "tags": []
          },
          "execution_count": 58
        }
      ]
    },
    {
      "cell_type": "code",
      "metadata": {
        "id": "1OlNb6qFj_sU",
        "colab_type": "code",
        "outputId": "7cba2c33-bdc3-4ce3-a51d-0de4cdc20350",
        "colab": {
          "base_uri": "https://localhost:8080/",
          "height": 119
        }
      },
      "source": [
        "expected_forecast[:5]"
      ],
      "execution_count": 0,
      "outputs": [
        {
          "output_type": "execute_result",
          "data": {
            "text/plain": [
              "78595    10.911511\n",
              "78596    13.210351\n",
              "78597    15.512793\n",
              "78598    16.190786\n",
              "78599    16.199511\n",
              "dtype: float64"
            ]
          },
          "metadata": {
            "tags": []
          },
          "execution_count": 59
        }
      ]
    },
    {
      "cell_type": "code",
      "metadata": {
        "id": "zBjOEIgZkMUf",
        "colab_type": "code",
        "colab": {}
      },
      "source": [
        "actual = test[:50]\n",
        "pred = expected_forecast[:50]"
      ],
      "execution_count": 0,
      "outputs": []
    },
    {
      "cell_type": "code",
      "metadata": {
        "id": "WB7fEVxqhd1F",
        "colab_type": "code",
        "outputId": "53579564-bdea-4251-dee6-b651f64162e6",
        "colab": {
          "base_uri": "https://localhost:8080/",
          "height": 769
        }
      },
      "source": [
        "plt.figure(figsize=(10,8))\n",
        "pred.plot(legend=True)\n",
        "actual.plot(legend=True)"
      ],
      "execution_count": 0,
      "outputs": [
        {
          "output_type": "execute_result",
          "data": {
            "text/plain": [
              "<matplotlib.axes._subplots.AxesSubplot at 0x7ff583358470>"
            ]
          },
          "metadata": {
            "tags": []
          },
          "execution_count": 63
        },
        {
          "output_type": "display_data",
          "data": {
            "image/png": "[encoded data removed]",
            "text/plain": [
              "<Figure size 720x576 with 1 Axes>"
            ]
          },
          "metadata": {
            "tags": []
          }
        },
        {
          "output_type": "display_data",
          "data": {
            "image/png": "[encoded data removed]",
            "text/plain": [
              "<Figure size 432x288 with 1 Axes>"
            ]
          },
          "metadata": {
            "tags": []
          }
        }
      ]
    },
    {
      "cell_type": "code",
      "metadata": {
        "id": "LJVIgl7MR7Q2",
        "colab_type": "code",
        "colab": {}
      },
      "source": [
        "USing LSTM"
      ],
      "execution_count": 0,
      "outputs": []
    },
    {
      "cell_type": "code",
      "metadata": {
        "id": "7buSgqIjcVqO",
        "colab_type": "code",
        "colab": {}
      },
      "source": [
        "from sklearn.preprocessing import MinMaxScaler\n",
        "scaler = MinMaxScaler()\n",
        "scaled_train_data = scaler.fit_transform(train)\n",
        "scaled_test_data = scaler.transform(test)"
      ],
      "execution_count": 0,
      "outputs": []
    },
    {
      "cell_type": "code",
      "metadata": {
        "id": "sOu4Y5rpoItl",
        "colab_type": "code",
        "outputId": "3ede8190-1829-4143-c996-b2c3dd799ffd",
        "colab": {
          "base_uri": "https://localhost:8080/",
          "height": 221
        }
      },
      "source": [
        "from keras.preprocessing.sequence import TimeseriesGenerator\n",
        "\n",
        "n_input = 250\n",
        "n_features= 1\n",
        "generator = TimeseriesGenerator(scaled_train_data, scaled_train_data, length=n_input, batch_size=1)\n",
        "from keras.models import Sequential\n",
        "from keras.layers import Dense\n",
        "from keras.layers import LSTM\n",
        "\n",
        "lstm_model = Sequential()\n",
        "lstm_model.add(LSTM(50, activation='relu', input_shape=(n_input, n_features)))\n",
        "lstm_model.add(Dense(1))\n",
        "lstm_model.compile(optimizer='adam', loss='mse')\n",
        "\n",
        "lstm_model.summary()"
      ],
      "execution_count": 0,
      "outputs": [
        {
          "output_type": "stream",
          "text": [
            "Model: \"sequential_3\"\n",
            "_________________________________________________________________\n",
            "Layer (type)                 Output Shape              Param #   \n",
            "=================================================================\n",
            "lstm_3 (LSTM)                (None, 50)                10400     \n",
            "_________________________________________________________________\n",
            "dense_3 (Dense)              (None, 1)                 51        \n",
            "=================================================================\n",
            "Total params: 10,451\n",
            "Trainable params: 10,451\n",
            "Non-trainable params: 0\n",
            "_________________________________________________________________\n"
          ],
          "name": "stdout"
        }
      ]
    },
    {
      "cell_type": "code",
      "metadata": {
        "id": "asj_Ew1woVzk",
        "colab_type": "code",
        "outputId": "4b4baf1e-5547-40b9-b3a2-1cd00d708750",
        "colab": {
          "base_uri": "https://localhost:8080/",
          "height": 51
        }
      },
      "source": [
        "lstm_model.fit_generator(generator,epochs=2)"
      ],
      "execution_count": 0,
      "outputs": [
        {
          "output_type": "stream",
          "text": [
            "Epoch 1/2\n",
            "12879/78345 [===>..........................] - ETA: 6:06:23 - loss: 0.0015"
          ],
          "name": "stdout"
        }
      ]
    },
    {
      "cell_type": "code",
      "metadata": {
        "id": "x3wCWBTWobLQ",
        "colab_type": "code",
        "colab": {}
      },
      "source": [
        ""
      ],
      "execution_count": 0,
      "outputs": []
    }
  ]
}