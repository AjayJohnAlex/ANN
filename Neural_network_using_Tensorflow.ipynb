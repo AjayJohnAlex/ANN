{
  "nbformat": 4,
  "nbformat_minor": 0,
  "metadata": {
    "colab": {
      "name": "Neural_network using Tensorflow.ipynb",
      "provenance": []
    },
    "kernelspec": {
      "name": "python3",
      "display_name": "Python 3"
    },
    "accelerator": "GPU"
  },
  "cells": [
    {
      "cell_type": "code",
      "metadata": {
        "id": "buxVQFfU9z8a",
        "colab_type": "code",
        "colab": {
          "base_uri": "https://localhost:8080/",
          "height": 411
        },
        "outputId": "6d97fc85-fa6e-4cfe-9bc7-2d5d5fb5e165"
      },
      "source": [
        "%tensorflow_version 1.x\n",
        "import numpy as np\n",
        "from tensorflow.examples.tutorials.mnist import input_data\n",
        "mnist = input_data.read_data_sets(\"/content/\",one_hot=True)\n",
        "# Please use alternatives such as official/mnist/dataset.py from tensorflow/models."
      ],
      "execution_count": 1,
      "outputs": [
        {
          "output_type": "stream",
          "text": [
            "WARNING:tensorflow:From <ipython-input-1-48c72c3490c6>:4: read_data_sets (from tensorflow.contrib.learn.python.learn.datasets.mnist) is deprecated and will be removed in a future version.\n",
            "Instructions for updating:\n",
            "Please use alternatives such as official/mnist/dataset.py from tensorflow/models.\n",
            "WARNING:tensorflow:From /usr/local/lib/python3.6/dist-packages/tensorflow_core/contrib/learn/python/learn/datasets/mnist.py:260: maybe_download (from tensorflow.contrib.learn.python.learn.datasets.base) is deprecated and will be removed in a future version.\n",
            "Instructions for updating:\n",
            "Please write your own downloading logic.\n",
            "WARNING:tensorflow:From /usr/local/lib/python3.6/dist-packages/tensorflow_core/contrib/learn/python/learn/datasets/mnist.py:262: extract_images (from tensorflow.contrib.learn.python.learn.datasets.mnist) is deprecated and will be removed in a future version.\n",
            "Instructions for updating:\n",
            "Please use tf.data to implement this functionality.\n",
            "Extracting /content/train-images-idx3-ubyte.gz\n",
            "WARNING:tensorflow:From /usr/local/lib/python3.6/dist-packages/tensorflow_core/contrib/learn/python/learn/datasets/mnist.py:267: extract_labels (from tensorflow.contrib.learn.python.learn.datasets.mnist) is deprecated and will be removed in a future version.\n",
            "Instructions for updating:\n",
            "Please use tf.data to implement this functionality.\n",
            "Extracting /content/train-labels-idx1-ubyte.gz\n",
            "WARNING:tensorflow:From /usr/local/lib/python3.6/dist-packages/tensorflow_core/contrib/learn/python/learn/datasets/mnist.py:110: dense_to_one_hot (from tensorflow.contrib.learn.python.learn.datasets.mnist) is deprecated and will be removed in a future version.\n",
            "Instructions for updating:\n",
            "Please use tf.one_hot on tensors.\n",
            "Extracting /content/t10k-images-idx3-ubyte.gz\n",
            "Extracting /content/t10k-labels-idx1-ubyte.gz\n",
            "WARNING:tensorflow:From /usr/local/lib/python3.6/dist-packages/tensorflow_core/contrib/learn/python/learn/datasets/mnist.py:290: DataSet.__init__ (from tensorflow.contrib.learn.python.learn.datasets.mnist) is deprecated and will be removed in a future version.\n",
            "Instructions for updating:\n",
            "Please use alternatives such as official/mnist/dataset.py from tensorflow/models.\n"
          ],
          "name": "stdout"
        }
      ]
    },
    {
      "cell_type": "code",
      "metadata": {
        "id": "nvMbAHN5CBik",
        "colab_type": "code",
        "colab": {}
      },
      "source": [
        "import tensorflow as tf"
      ],
      "execution_count": 0,
      "outputs": []
    },
    {
      "cell_type": "markdown",
      "metadata": {
        "id": "bjHMwRxmDM_7",
        "colab_type": "text"
      },
      "source": [
        "# ANN"
      ]
    },
    {
      "cell_type": "code",
      "metadata": {
        "id": "R-pxKuRsBSkU",
        "colab_type": "code",
        "colab": {
          "base_uri": "https://localhost:8080/",
          "height": 190
        },
        "outputId": "01d909c1-51e8-45ec-8015-f6a44a6c7b93"
      },
      "source": [
        "n_classes = 10\n",
        "n_hidden_neurons = 500\n",
        "\n",
        "X = tf.placeholder(tf.float32,shape=[None,784])\n",
        "y = tf.placeholder(tf.float32,shape=[None,10])\n",
        "\n",
        "    \n",
        "hidden_layer1 = {\n",
        "    \"weights\" :tf.Variable(tf.random_normal([784,n_hidden_neurons])),\n",
        "    \"bias\" : tf.Variable(tf.random_normal([n_hidden_neurons]))\n",
        "}\n",
        "\n",
        "output_layer = {\n",
        "    \"weights\" :tf.Variable(tf.random_normal([n_hidden_neurons,n_classes])),\n",
        "    \"bias\" : tf.Variable(tf.random_normal([n_classes]))\n",
        "}\n",
        "\n",
        "\n",
        "def neural_network(data):\n",
        "    \n",
        "  l1 = tf.matmul(data,hidden_layer1['weights'])+hidden_layer1['bias']\n",
        "  l1 = tf.nn.relu(l1)\n",
        "\n",
        "  output = tf.matmul(l1,output_layer['weights'])+output_layer['bias']\n",
        "\n",
        "  return output\n",
        "\n",
        "def training_nn(X):\n",
        "    \n",
        "  y_pred = neural_network(X)\n",
        "  error = tf.reduce_mean(tf.nn.softmax_cross_entropy_with_logits(labels=y,logits=y_pred))\n",
        "\n",
        "  optimiser = tf.train.AdamOptimizer(learning_rate=0.01).minimize(error)\n",
        "\n",
        "  init  = tf.global_variables_initializer()\n",
        "\n",
        "  saver = tf.train.Saver()\n",
        "  with tf.Session() as sess:\n",
        "    sess.run(init)\n",
        "\n",
        "    for steps in range(1000):    \n",
        "        \n",
        "      batch_x, batch_y = mnist.train.next_batch(300)\n",
        "\n",
        "      sess.run(optimiser,feed_dict = {X:batch_x,y:batch_y})\n",
        "\n",
        "    # saver.save(sess,\"/content/Mnist_10K_adam.h5\")\n",
        "\n",
        "    # with tf.Session() as sess:\n",
        "      \n",
        "    # saver.restore(sess,\"/content/Mnist_10K_adam.h5\")\n",
        "    correct_pred  = tf.equal(tf.argmax(y_pred,1),tf.argmax(y,1))\n",
        "\n",
        "    accuracy = tf.reduce_mean(tf.cast(correct_pred,tf.float32))\n",
        "\n",
        "    print(\"Accuracy : \",sess.run(accuracy,feed_dict={X:mnist.test.images,y:mnist.test.labels}))\n",
        "\n",
        "training_nn(X)"
      ],
      "execution_count": 3,
      "outputs": [
        {
          "output_type": "stream",
          "text": [
            "WARNING:tensorflow:From <ipython-input-3-1bc1c15ff6bf>:31: softmax_cross_entropy_with_logits (from tensorflow.python.ops.nn_ops) is deprecated and will be removed in a future version.\n",
            "Instructions for updating:\n",
            "\n",
            "Future major versions of TensorFlow will allow gradients to flow\n",
            "into the labels input on backprop by default.\n",
            "\n",
            "See `tf.nn.softmax_cross_entropy_with_logits_v2`.\n",
            "\n",
            "Accuracy :  0.9564\n"
          ],
          "name": "stdout"
        }
      ]
    },
    {
      "cell_type": "markdown",
      "metadata": {
        "id": "S1fIPEsrDIC0",
        "colab_type": "text"
      },
      "source": [
        "# CNN\n"
      ]
    },
    {
      "cell_type": "code",
      "metadata": {
        "id": "lULEgB8vEPKU",
        "colab_type": "code",
        "colab": {
          "base_uri": "https://localhost:8080/",
          "height": 34
        },
        "outputId": "65ca0b75-e6ec-4cfb-873f-ff2af0ad6a36"
      },
      "source": [
        "n_classes = 10\n",
        "n_hidden_neurons = 500\n",
        "\n",
        "drop_rate = 0.8\n",
        "\n",
        "X = tf.placeholder(tf.float32,shape=[None,784])\n",
        "y = tf.placeholder(tf.float32,shape=[None,10])\n",
        "\n",
        "def cnn_layer(data):\n",
        "\n",
        "  weights = {\n",
        "      \"W_convo1\" : tf.Variable(tf.random_normal([5,5,1,32])),\n",
        "      \"W_convo2\" : tf.Variable(tf.random_normal([5,5,32,64])),\n",
        "      \"W_fc\" : tf.Variable(tf.random_normal([7*7*64,1024])),\n",
        "      \"W_output\" : tf.Variable(tf.random_normal([1024,n_classes])),\n",
        "\n",
        "\n",
        "  }\n",
        "\n",
        "  biases = {\n",
        "      \"B_convo1\" : tf.Variable(tf.random_normal([32])),\n",
        "      \"B_convo2\" : tf.Variable(tf.random_normal([64])),\n",
        "      \"B_fc\" : tf.Variable(tf.random_normal([1024])),\n",
        "      \"B_output\" : tf.Variable(tf.random_normal([n_classes])),\n",
        "\n",
        "  }\n",
        "\n",
        "  data = tf.reshape(data,shape=[-1,28,28,1])\n",
        "\n",
        "  convo2d_layer1 = tf.nn.relu(tf.nn.conv2d(data,weights['W_convo1'],strides=[1,1,1,1],padding=\"SAME\")\n",
        "                  + biases[\"B_convo1\"])\n",
        "  max_pooling1  = tf.nn.max_pool(convo2d_layer1,ksize=[1,2,2,1] , strides=[1,2,2,1],padding=\"SAME\")\n",
        "\n",
        "  convo2d_layer2 = tf.nn.relu(tf.nn.conv2d(max_pooling1,weights['W_convo2'],strides=[1,1,1,1],padding=\"SAME\")\n",
        "                  + biases[\"B_convo2\"])\n",
        "  max_pooling2  = tf.nn.max_pool(convo2d_layer2,ksize=[1,2,2,1], strides=[1,2,2,1],padding=\"SAME\")\n",
        "\n",
        "  fc = tf.reshape(max_pooling2,[-1,7*7*64])\n",
        "\n",
        "  fc_nn = tf.nn.relu(tf.matmul(fc,weights['W_fc'])+ biases['B_fc'])\n",
        "\n",
        "  # dropout = tf.nn.dropout(fc_nn,keep_prob=keep_rate)\n",
        "\n",
        "  output = tf.matmul(fc_nn,weights['W_output']) + biases['B_output']\n",
        "\n",
        "  return output\n",
        "\n",
        "def training_nn(X):\n",
        "    \n",
        "  y_pred = cnn_layer(X)\n",
        "  error = tf.reduce_mean(tf.nn.softmax_cross_entropy_with_logits(labels=y,logits=y_pred))\n",
        "\n",
        "  optimiser = tf.train.AdamOptimizer().minimize(error)\n",
        "\n",
        "  init  = tf.global_variables_initializer()\n",
        "\n",
        "  saver = tf.train.Saver()\n",
        "\n",
        "\n",
        "  with tf.Session() as sess:\n",
        "    sess.run(init)\n",
        "\n",
        "    for steps in range(1000):    \n",
        "        \n",
        "      batch_x, batch_y = mnist.train.next_batch(300)\n",
        "\n",
        "      sess.run(optimiser,feed_dict = {X:batch_x,y:batch_y})\n",
        "      \n",
        "    correct_pred  = tf.equal(tf.argmax(y_pred,1),tf.argmax(y,1))\n",
        "\n",
        "    accuracy = tf.reduce_mean(tf.cast(correct_pred,tf.float32))\n",
        "\n",
        "    print(\"Accuracy : \",sess.run(accuracy,feed_dict={X:mnist.test.images,y:mnist.test.labels}))\n",
        "\n",
        "\n",
        "training_nn(X)"
      ],
      "execution_count": 4,
      "outputs": [
        {
          "output_type": "stream",
          "text": [
            "Accuracy :  0.9632\n"
          ],
          "name": "stdout"
        }
      ]
    },
    {
      "cell_type": "markdown",
      "metadata": {
        "id": "qKDtxXvJjD6Y",
        "colab_type": "text"
      },
      "source": [
        "# RNN"
      ]
    },
    {
      "cell_type": "code",
      "metadata": {
        "id": "uBjs76AnRBQo",
        "colab_type": "code",
        "colab": {
          "base_uri": "https://localhost:8080/",
          "height": 258
        },
        "outputId": "96a058da-85e9-4f28-d145-b34af8add0ce"
      },
      "source": [
        "from tensorflow.python.ops import rnn, rnn_cell\n",
        "\n",
        "tf.reset_default_graph()\n",
        "\n",
        "n_classes = 10\n",
        "\n",
        "n_chunks = 28\n",
        "chunk_size = 28\n",
        "rnn_size =128\n",
        "\n",
        "X = tf.placeholder(tf.float32,shape=[None,chunk_size,n_chunks])\n",
        "y = tf.placeholder(tf.float32,shape=[None,n_classes])\n",
        "\n",
        "def rnn_layer(X):\n",
        "\n",
        "  rnn_layer = {\n",
        "      \n",
        "      \"weights\" : tf.Variable(tf.random_normal([rnn_size,n_classes])),\n",
        "      \"bias\" : tf.Variable(tf.random_normal([n_classes]))\n",
        "  }\n",
        "\n",
        "  X = tf.transpose(X,perm=[1,0,2])\n",
        "  X = tf.reshape(X,[-1,chunk_size])\n",
        "  X = tf.split(X,n_chunks,0)\n",
        "\n",
        "\n",
        "  lstm_cell = tf.nn.rnn_cell.BasicLSTMCell(rnn_size,state_is_tuple=True)\n",
        "  outputs, states = rnn.static_rnn(lstm_cell,X,dtype=tf.float32)\n",
        "\n",
        "  output_layer = tf.matmul(outputs[-1],rnn_layer['weights'])+ rnn_layer['bias']\n",
        "  return output_layer\n",
        "\n",
        "def training_nn(X):\n",
        "    \n",
        "  y_pred = rnn_layer(X)\n",
        "  error = tf.reduce_mean(tf.nn.softmax_cross_entropy_with_logits(labels=y,logits=y_pred))\n",
        "\n",
        "  optimiser = tf.train.AdamOptimizer().minimize(error)\n",
        "\n",
        "  init  = tf.global_variables_initializer()\n",
        "\n",
        "  saver = tf.train.Saver()\n",
        "\n",
        "\n",
        "  with tf.Session() as sess:\n",
        "    sess.run(init)\n",
        "\n",
        "    for steps in range(1500):    \n",
        "        \n",
        "      batch_x, batch_y = mnist.train.next_batch(128)\n",
        "\n",
        "      batch_x = batch_x.reshape((128,n_chunks,chunk_size))\n",
        "\n",
        "      sess.run(optimiser,feed_dict = {X:batch_x,y:batch_y})\n",
        "      \n",
        "    correct_pred  = tf.equal(tf.argmax(y_pred,1),tf.argmax(y,1))\n",
        "\n",
        "    accuracy = tf.reduce_mean(tf.cast(correct_pred,tf.float32))\n",
        "\n",
        "    print(\"Accuracy : \",sess.run(accuracy,feed_dict={X:mnist.test.images.reshape((-1, n_chunks, chunk_size)),y:mnist.test.labels}))\n",
        "\n",
        "\n",
        "\n",
        "training_nn(X)"
      ],
      "execution_count": 5,
      "outputs": [
        {
          "output_type": "stream",
          "text": [
            "WARNING:tensorflow:From <ipython-input-5-685bb929e9b8>:27: BasicLSTMCell.__init__ (from tensorflow.python.ops.rnn_cell_impl) is deprecated and will be removed in a future version.\n",
            "Instructions for updating:\n",
            "This class is equivalent as tf.keras.layers.LSTMCell, and will be replaced by that in Tensorflow 2.0.\n",
            "WARNING:tensorflow:From <ipython-input-5-685bb929e9b8>:28: static_rnn (from tensorflow.python.ops.rnn) is deprecated and will be removed in a future version.\n",
            "Instructions for updating:\n",
            "Please use `keras.layers.RNN(cell, unroll=True)`, which is equivalent to this API\n",
            "WARNING:tensorflow:From /usr/local/lib/python3.6/dist-packages/tensorflow_core/python/ops/rnn_cell_impl.py:735: Layer.add_variable (from tensorflow.python.keras.engine.base_layer) is deprecated and will be removed in a future version.\n",
            "Instructions for updating:\n",
            "Please use `layer.add_weight` method instead.\n",
            "WARNING:tensorflow:From /usr/local/lib/python3.6/dist-packages/tensorflow_core/python/ops/rnn_cell_impl.py:739: calling Zeros.__init__ (from tensorflow.python.ops.init_ops) with dtype is deprecated and will be removed in a future version.\n",
            "Instructions for updating:\n",
            "Call initializer instance with the dtype argument instead of passing it to the constructor\n",
            "Accuracy :  0.9772\n"
          ],
          "name": "stdout"
        }
      ]
    },
    {
      "cell_type": "code",
      "metadata": {
        "id": "9Nrv_BYYgaxx",
        "colab_type": "code",
        "colab": {}
      },
      "source": [
        ""
      ],
      "execution_count": 0,
      "outputs": []
    }
  ]
}