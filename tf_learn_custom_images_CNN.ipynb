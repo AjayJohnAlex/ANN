{
  "nbformat": 4,
  "nbformat_minor": 0,
  "metadata": {
    "colab": {
      "name": "tf_learn_custom_images_CNN",
      "provenance": [],
      "collapsed_sections": []
    },
    "kernelspec": {
      "name": "python3",
      "display_name": "Python 3"
    },
    "accelerator": "GPU"
  },
  "cells": [
    {
      "cell_type": "code",
      "metadata": {
        "id": "bUg0hcS89rle",
        "colab_type": "code",
        "colab": {}
      },
      "source": [
        "%tensorflow_version 1.x\n",
        "import tflearn "
      ],
      "execution_count": 0,
      "outputs": []
    },
    {
      "cell_type": "code",
      "metadata": {
        "id": "5BrM_EIz-wCo",
        "colab_type": "code",
        "outputId": "1602c1f3-3e97-4830-a8b2-6950ac655e80",
        "colab": {
          "base_uri": "https://localhost:8080/",
          "height": 258
        }
      },
      "source": [
        "# ! pip install google_images_download"
      ],
      "execution_count": 2,
      "outputs": [
        {
          "output_type": "stream",
          "text": [
            "Collecting google_images_download\n",
            "  Downloading https://files.pythonhosted.org/packages/18/ed/0319d30c48f3653802da8e6dcfefcea6370157d10d566ef6807cceb5ec4d/google_images_download-2.8.0.tar.gz\n",
            "Collecting selenium\n",
            "\u001b[?25l  Downloading https://files.pythonhosted.org/packages/80/d6/4294f0b4bce4de0abf13e17190289f9d0613b0a44e5dd6a7f5ca98459853/selenium-3.141.0-py2.py3-none-any.whl (904kB)\n",
            "\u001b[K     |████████████████████████████████| 911kB 4.0MB/s \n",
            "\u001b[?25hRequirement already satisfied: urllib3 in /usr/local/lib/python3.6/dist-packages (from selenium->google_images_download) (1.24.3)\n",
            "Building wheels for collected packages: google-images-download\n",
            "  Building wheel for google-images-download (setup.py) ... \u001b[?25l\u001b[?25hdone\n",
            "  Created wheel for google-images-download: filename=google_images_download-2.8.0-py2.py3-none-any.whl size=14550 sha256=0b2b0e7d7d14b2cb1e5a540f45e2fee026f490f67129d8a506c9cfae5f38cbe5\n",
            "  Stored in directory: /root/.cache/pip/wheels/1f/28/ad/f56e7061e1d2a9a1affe2f9c649c2570cb9198dd24ede0bbab\n",
            "Successfully built google-images-download\n",
            "Installing collected packages: selenium, google-images-download\n",
            "Successfully installed google-images-download-2.8.0 selenium-3.141.0\n"
          ],
          "name": "stdout"
        }
      ]
    },
    {
      "cell_type": "code",
      "metadata": {
        "id": "vTEIke5d9xky",
        "colab_type": "code",
        "colab": {}
      },
      "source": [
        "from tflearn.layers.core import input_data, fully_connected, dropout\n",
        "from tflearn.layers.conv import conv_2d,max_pool_2d\n",
        "from tflearn.layers.estimator import regression\n",
        "import numpy as np\n",
        "import matplotlib.pyplot as plt\n",
        "import cv2\n",
        "import os\n",
        "from random import shuffle\n",
        "from google_images_download import google_images_download\n",
        "from PIL import Image"
      ],
      "execution_count": 0,
      "outputs": []
    },
    {
      "cell_type": "code",
      "metadata": {
        "id": "vcCtHo3w_GYB",
        "colab_type": "code",
        "outputId": "beb59ff2-c625-40b6-fcfa-1c3b36d68cd7",
        "colab": {
          "base_uri": "https://localhost:8080/",
          "height": 1000
        }
      },
      "source": [
        "# getting random iamges of cars and ships in\n",
        "response  = google_images_download.googleimagesdownload()\n",
        "arguments = {\"keywords\":\"Forest Fire,Natural Vegetation\",\"limit\":100,\"print_urls\":False}\n",
        "\n",
        "path = response.download(arguments)\n",
        "print(path)\n",
        "\n",
        "# got 94 images of forest_fire and 94 images of natural vegetation"
      ],
      "execution_count": 4,
      "outputs": [
        {
          "output_type": "stream",
          "text": [
            "\n",
            "Item no.: 1 --> Item name = Forest Fire\n",
            "Evaluating...\n",
            "Starting Download...\n",
            "Completed Image ====> 1.ar_forest_fires_brais_seara_adobestock_199370851.jpeg\n",
            "Completed Image ====> 2.920x920.jpg\n",
            "Completed Image ====> 3.Bandipur_fires_2019.jpg\n",
            "Completed Image ====> 4.Washington-DNR-Chiwaukum-WildFires-2014-2015_WA-DNR_cropped.jpg\n",
            "Completed Image ====> 5.C1CBDCD7-0471-4C47-846607ADAF8585F4_source.jpg\n",
            "Completed Image ====> 6.IndonesiaFire.jpg\n",
            "Completed Image ====> 7.colin-sf-12.jpg\n",
            "Completed Image ====> 8.9-forestfire.jpg\n",
            "Completed Image ====> 9.Zaca-wildfire-Santa-Barbara-county-California-2007.jpg\n",
            "Completed Image ====> 10.header-hypermaritime-fire.jpg\n",
            "Completed Image ====> 11.GettyImages_1161492067.jpg\n",
            "Completed Image ====> 12.nz_fire_270819.jpg\n",
            "Completed Image ====> 13.GettyImages-482867948.0.jpg\n",
            "Completed Image ====> 14.rimns6_1568965817.jpg\n",
            "Completed Image ====> 15.An-increase-in-forest-fires-means-more-beetles-and-woodpeckers-730x410.jpg\n",
            "Completed Image ====> 16.forest-fire.jpg\n",
            "Completed Image ====> 17.1342d936cea42df5c34d1245c7d384e218740b62f430731f92b0c76a1761fdcb.jpg\n",
            "Completed Image ====> 18._108867723_hi056504569.png\n",
            "Completed Image ====> 19.spainfires_600.jpg\n",
            "Completed Image ====> 20.ICR3EMEG6ZC2JP4HLVGRN37YVE.jpg\n",
            "Completed Image ====> 21.caddy-lake-wildfire-may-10.jpg\n",
            "Completed Image ====> 22.FB_IMG_1526863969649_1_0.jpeg\n",
            "Completed Image ====> 23.The_Rim_Fire_in_the_Stanislaus_National_Forest_near_in_California_began_on_Aug._17%2C_2013-0004.jpg\n",
            "Completed Image ====> 24.maxresdefault.jpg\n",
            "Completed Image ====> 25.shutterstock_710588224.jpg\n",
            "Completed Image ====> 26.forest-fire.jpg\n",
            "Completed Image ====> 27.bc-forest-fire.jpg\n",
            "Completed Image ====> 28.PZH7OFVCEUI6PLPBO3IGDVLO7I.jpg\n",
            "Completed Image ====> 29.fire.jpg\n",
            "Completed Image ====> 30.Forest-Fire.jpg\n",
            "Completed Image ====> 31.Clipboard0124-1-864x486.jpg\n",
            "Completed Image ====> 32.https%3A%2F%2Fs3-ap-northeast-1.amazonaws.com%2Fpsh-ex-ftnikkei-3937bb4%2Fimages%2F8%2F1%2F0%2F8%2F22598018-2-eng-GB%2FCropped-1568618039RTX72XZA.jpg\n",
            "Completed Image ====> 33.189c9327-ee78-4c0f-9a1d-a369a8293def.jpg\n",
            "Completed Image ====> 34.shutterstock-48032821.jpg\n",
            "Completed Image ====> 35.file-20190731-186824-fdcdor.jpg\n",
            "Completed Image ====> 36.dilly_fire_1.jpg\n",
            "Completed Image ====> 37.forestfire-0.jpg\n",
            "Completed Image ====> 38.2019_08_12_77924_1565604896._large.jpg\n",
            "Completed Image ====> 39.gettyimages-1028189352.jpg\n",
            "Completed Image ====> 40.0.05258500_1557487635_fire2.jpg\n",
            "Completed Image ====> 41.Fire-Image3-1-864x486.jpg\n",
            "Completed Image ====> 42.50112402_303.jpg\n",
            "Completed Image ====> 43.ST_20191102_LYRAIN_5225228.jpg\n",
            "Completed Image ====> 44.deerfire.jpg\n",
            "Completed Image ====> 45.forest-fires.jpg\n",
            "Completed Image ====> 46.eight_col_firepigeonvalley1.jpg\n",
            "Completed Image ====> 47.267671.jpg\n",
            "Completed Image ====> 48.maxresdefault.jpg\n",
            "Completed Image ====> 49.19464620_401.jpg\n",
            "Completed Image ====> 50.800.jpeg\n",
            "Completed Image ====> 51.image.jpg\n",
            "Invalid or missing image format. Skipping...\n",
            "Completed Image ====> 52.fire_water_1050x700.jpg\n",
            "Completed Image ====> 53.Forest-Fire-WildandFree-OutThere-Colorado.jpg\n",
            "Completed Image ====> 54.602x338_cmsv2_c80348f2-d875-5317-9ff8-00013263fc69-3810434.jpg\n",
            "Completed Image ====> 55.good-creek-fire.jpg\n",
            "Invalid or missing image format. Skipping...\n",
            "Completed Image ====> 56.image.jpg\n",
            "Completed Image ====> 57.RTS17ID2-1024x683.jpg\n",
            "Completed Image ====> 58.defense-large.jpg\n",
            "Completed Image ====> 59.amazon-fires.jpg\n",
            "Completed Image ====> 60.California_Forest_Fire_One_Tree_Planted_2000x.png\n",
            "Completed Image ====> 61.2c1561735437r1200x015617752589-7106-4086-1561976678_680x408.png\n",
            "Completed Image ====> 62.Forest_fire_in_Almora_District_2016.jpg\n",
            "Completed Image ====> 63._108867730_hi056504389.png\n",
            "Completed Image ====> 64.coldspring-forest-fire-aug-5-2018-vern-schram.jpg\n",
            "Completed Image ====> 65.forest-fire.JPG\n",
            "Completed Image ====> 66.cumming_forest_fires.jpg\n",
            "Invalid or missing image format. Skipping...\n",
            "Completed Image ====> 67.yellbanner.jpg\n",
            "Completed Image ====> 68.large_e3tjCbVW6iW44SpXlAZVoWJgICSv72EKR4ql0GJQvNw.jpg\n",
            "Completed Image ====> 69.61283_20190820_2_37823116_46911418_1566380148902.jpg\n",
            "Completed Image ====> 70.0.77835200_1551272216_0.jpg\n",
            "Completed Image ====> 71.gettyimages-862092472.jpg\n",
            "Completed Image ====> 72.17628024_web1_forest-fire-eutsuk-lake-bcgovt-web.jpg\n",
            "Completed Image ====> 73.korea-forest-fire-4.jpg\n",
            "Completed Image ====> 74.00105f23-500.jpg\n",
            "Completed Image ====> 75.lead_720_405.jpg\n",
            "Completed Image ====> 76.190911145742-indonesia-fire-090719-large-169.jpeg\n",
            "Completed Image ====> 77.horseshoe-bay-fire.jpg\n",
            "Completed Image ====> 78.spanish-forest-fire-01-1-1.jpg\n",
            "Completed Image ====> 79.bandipur_forest_fire.jpeg\n",
            "Completed Image ====> 80.69843779.jpg\n",
            "Completed Image ====> 81.forest-fire.jpg\n",
            "Completed Image ====> 82.d72-rdyxyaykjao.jpg\n",
            "Completed Image ====> 83.39296577_303.jpg\n",
            "Completed Image ====> 84.HAZE_Forest-1709_1568699486.jpg\n",
            "Completed Image ====> 85.AP_19257235166834.jpg\n",
            "Completed Image ====> 86.Untitled-design-161-866x487.jpg\n",
            "Completed Image ====> 87.fire.jpg\n",
            "Completed Image ====> 88.aa7c7eb6-53a6-11e9-8617-6babbcfb60eb_image_hires_210431.jpeg\n",
            "Completed Image ====> 89.scientists-call-for-rethink-of-indias-british-era-forest-fire-policies.jpg\n",
            "Invalid or missing image format. Skipping...\n",
            "Completed Image ====> 90.AP_19254411658028.jpg\n",
            "Completed Image ====> 91.2200.jpg\n",
            "Completed Image ====> 92.2016_09_26_12763_1474875686._large.jpg\n",
            "Completed Image ====> 93.Medium_WW199886.jpg\n",
            "Invalid or missing image format. Skipping...\n",
            "Completed Image ====> 94.190608082127-04-mountain-fire-arizona-exlarge-169.jpg\n",
            "Completed Image ====> 95.b-c-wildfire.jpg\n",
            "\n",
            "\n",
            "Unfortunately all 100 could not be downloaded because some images were not downloadable. 95 is all we got for this search filter!\n",
            "\n",
            "Errors: 5\n",
            "\n",
            "\n",
            "Item no.: 2 --> Item name = Natural Vegetation\n",
            "Evaluating...\n",
            "Starting Download...\n",
            "Completed Image ====> 1.Natural-Vegetation-of-India-300x225.jpg\n",
            "Completed Image ====> 2.b162.jpg\n",
            "Completed Image ====> 3.1596692_634889171132184985-1.jpg\n",
            "Completed Image ====> 4.Temperate-forests-260x300.jpg\n",
            "Completed Image ====> 5.Natural-vegetation.jpg\n",
            "Completed Image ====> 6.900837203.jpg\n",
            "Completed Image ====> 7.narural-vegetation.jpg\n",
            "Completed Image ====> 8.maxresdefault.jpg\n",
            "Completed Image ====> 9.59_e0c8bd0c-88d0-40e3-afb5-9fa744e9c3b7_lg.jpg\n",
            "Completed Image ====> 10.natural-vegetation-by-shaurya-nagpal-1-638.jpg\n",
            "Completed Image ====> 11.rice2.jpg\n",
            "Completed Image ====> 12.TROPICAL+EVERGREEN+FOREST.jpg\n",
            "Completed Image ====> 13.fe19a947e70776ca95db30f50e04aa4b.jpg\n",
            "Completed Image ====> 14.index.jpg\n",
            "Completed Image ====> 15.Natural-Vegetation.jpg\n",
            "Completed Image ====> 16.Flickr_-_Nicholas_T_-_Lofty.jpg\n",
            "Completed Image ====> 17.image001.jpg\n",
            "Completed Image ====> 18.783382_634310142009991250-1.jpg\n",
            "Completed Image ====> 19.shutterstock_755948704.jpg\n",
            "Completed Image ====> 20.Natural-Vegetation-and-Wildlife.jpg\n",
            "Completed Image ====> 21.800px-Mudumalai_forest_elephant.jpg\n",
            "Completed Image ====> 22.6b477377fae28f9cf92efcbeb5d1ddb2.jpg\n",
            "Completed Image ====> 23.natural-vegetation-wild-life-11-638.jpg\n",
            "Completed Image ====> 24.637_028l.gif\n",
            "Completed Image ====> 25.919588_634369706765731250-1.jpg\n",
            "Completed Image ====> 26.Women_living_around.jpg\n",
            "Completed Image ====> 27.natural-vegetation-and-wild-life-9th-2-728.jpg\n",
            "Completed Image ====> 28.download-2.jpg\n",
            "Completed Image ====> 29.vege.jpg\n",
            "Completed Image ====> 30.an-area-with-thick-natural-vegetation-in-cochin-kerala-AJK3W3.jpg\n",
            "Completed Image ====> 31.Flora-1.jpg\n",
            "Completed Image ====> 32.59041-004-7f34ba3a.jpg\n",
            "Completed Image ====> 33.1%281-2%29.jpg\n",
            "Completed Image ====> 34.NATURAL+VEGETATION.jpg\n",
            "Completed Image ====> 35.Forests-of-Rajasthan.jpg\n",
            "Completed Image ====> 36.Wildlife_Main-730x410.jpg\n",
            "Completed Image ====> 37.types-of-forests-in-india-natural-vegetation-of-india-Copy.jpg\n",
            "Completed Image ====> 38.maxresdefault.jpg\n",
            "Completed Image ====> 39.Lowland_rainforest%2C_Masoala_National_Park%2C_Madagascar_%284026784053%29.jpg\n",
            "Completed Image ====> 40.Natural-Vegetation-and-Wildlife-300x112.jpg\n",
            "Completed Image ====> 41.natural_vegetation.jpg\n",
            "Completed Image ====> 42.59_f1e84623-7bbf-42d4-ac4b-a39d550e3d35_lg.jpg\n",
            "Completed Image ====> 43.le-verdissement-du-sahel-dynamique-de-la-vegetation-naturelle-ou-changement-d-utilisation-des-sols_lightbox.jpg\n",
            "Completed Image ====> 44.natural-vegetation-in-the-world-regent-secondary-e-learning-assignment-3-728.jpg\n",
            "Completed Image ====> 45.19577ea916f7e2d75ba303bed24d9e56.jpg\n",
            "Completed Image ====> 46.av1.jpg\n",
            "Completed Image ====> 47.land-hero.jpg\n",
            "Completed Image ====> 48.evergreen.png\n",
            "Completed Image ====> 49.hqdefault.jpg\n",
            "Completed Image ====> 50.image-1-21-1024x640.jpg\n",
            "Completed Image ====> 51.Untitled-1.jpg\n",
            "Completed Image ====> 52.1200px-Aerial_view_of_the_Amazon_Rainforest-300x184.jpg\n",
            "Completed Image ====> 53.1-anewstudysho.jpg\n",
            "Completed Image ====> 54.dense_vegetation_204947.jpg\n",
            "Completed Image ====> 55.8c14834539e9c37534d85ceddf59fefa1b64186319aebf430d41796832a0d.svg\n",
            "Completed Image ====> 56.ppt-on-natural-vegetation-and-wildlife-by-gursimran-singh-2-638.jpg\n",
            "Completed Image ====> 57.fLORA%20DIV.jpg\n",
            "Completed Image ====> 58.collage1.jpg\n",
            "Invalid or missing image format. Skipping...\n",
            "Completed Image ====> 59.maxresdefault.jpg\n",
            "Completed Image ====> 60.ecoveg_elephant_photo.jpg\n",
            "Completed Image ====> 61.Pineapple.jpg\n",
            "Completed Image ====> 62.4zhrdhvaym0.jpg\n",
            "Completed Image ====> 63.knotweed_control_with_ian_2018.jpg\n",
            "Completed Image ====> 64.1462909_634768919841720000-1.jpg\n",
            "Completed Image ====> 65.Oulankajoki-river-forest-Finland-Oulanka-National-Park.jpg\n",
            "Completed Image ====> 66.image010.jpg\n",
            "Completed Image ====> 67.Types-of-Forests-in-India.jpg\n",
            "Completed Image ====> 68.Sacred%20groves%20Kerala.jpg\n",
            "Completed Image ====> 69.vermont_forest_don_jacobson_header.jpg\n",
            "Completed Image ====> 70.0db643a885049c900b092ee4182c4afd.jpg\n",
            "Completed Image ====> 71.1003.png\n",
            "Completed Image ====> 72.image.jpg\n",
            "Completed Image ====> 73.651695_qimg.jpg\n",
            "Completed Image ====> 74.contour-ploughing-300x201.jpg\n",
            "Completed Image ====> 75.natural-vegetation-and-wildlife-6-638.jpg\n",
            "Completed Image ====> 76.CAFD6BAC-8D1E-4110-B76F-F1DC51A205B0.jpeg\n",
            "Completed Image ====> 77.natural_vegetation.jpg\n",
            "Completed Image ====> 78.220px-Sobreiros_-_Monchique_-_04.11.2018.jpg\n",
            "Invalid or missing image format. Skipping...\n",
            "Completed Image ====> 79.Forest-Indian.jpeg\n",
            "Completed Image ====> 80.forst.jpg\n",
            "Completed Image ====> 81.1%281-1%29.jpg\n",
            "Completed Image ====> 82.Classification-Natural-Vegetation.jpg\n",
            "Completed Image ====> 83.47510386412_9063a2e1a6_o.png\n",
            "Completed Image ====> 84.Forest.jpg\n",
            "Completed Image ====> 85.Taif-2.jpg\n",
            "Completed Image ====> 86.Starr_011104-0052_Scaevola_taccada.jpg\n",
            "Invalid or missing image format. Skipping...\n",
            "Completed Image ====> 87.sahara.jpg\n",
            "Completed Image ====> 88.1-s2.0-S0169204617301378-gr2.jpg\n",
            "URLError on an image...trying next one... Error: <urlopen error unknown url type: x-raw-image>\n",
            "Invalid or missing image format. Skipping...\n",
            "Completed Image ====> 89.natural_p2.jpg\n",
            "Completed Image ====> 90.forest-k5KH--621x414@LiveMint.jpg\n",
            "Completed Image ====> 91.iess1cc.jpg\n",
            "Invalid or missing image format. Skipping...\n",
            "Invalid or missing image format. Skipping...\n",
            "Completed Image ====> 92.Image-of-Natural-Vegetation.png\n",
            "Completed Image ====> 93.d164.jpg\n",
            "\n",
            "\n",
            "Unfortunately all 100 could not be downloaded because some images were not downloadable. 93 is all we got for this search filter!\n",
            "\n",
            "Errors: 7\n",
            "\n",
            "({'Forest Fire': ['/content/downloads/Forest Fire/1.ar_forest_fires_brais_seara_adobestock_199370851.jpeg', '/content/downloads/Forest Fire/2.920x920.jpg', '/content/downloads/Forest Fire/3.Bandipur_fires_2019.jpg', '/content/downloads/Forest Fire/4.Washington-DNR-Chiwaukum-WildFires-2014-2015_WA-DNR_cropped.jpg', '/content/downloads/Forest Fire/5.C1CBDCD7-0471-4C47-846607ADAF8585F4_source.jpg', '/content/downloads/Forest Fire/6.IndonesiaFire.jpg', '/content/downloads/Forest Fire/7.colin-sf-12.jpg', '/content/downloads/Forest Fire/8.9-forestfire.jpg', '/content/downloads/Forest Fire/9.Zaca-wildfire-Santa-Barbara-county-California-2007.jpg', '/content/downloads/Forest Fire/10.header-hypermaritime-fire.jpg', '/content/downloads/Forest Fire/11.GettyImages_1161492067.jpg', '/content/downloads/Forest Fire/12.nz_fire_270819.jpg', '/content/downloads/Forest Fire/13.GettyImages-482867948.0.jpg', '/content/downloads/Forest Fire/14.rimns6_1568965817.jpg', '/content/downloads/Forest Fire/15.An-increase-in-forest-fires-means-more-beetles-and-woodpeckers-730x410.jpg', '/content/downloads/Forest Fire/16.forest-fire.jpg', '/content/downloads/Forest Fire/17.1342d936cea42df5c34d1245c7d384e218740b62f430731f92b0c76a1761fdcb.jpg', '/content/downloads/Forest Fire/18._108867723_hi056504569.png', '/content/downloads/Forest Fire/19.spainfires_600.jpg', '/content/downloads/Forest Fire/20.ICR3EMEG6ZC2JP4HLVGRN37YVE.jpg', '/content/downloads/Forest Fire/21.caddy-lake-wildfire-may-10.jpg', '/content/downloads/Forest Fire/22.FB_IMG_1526863969649_1_0.jpeg', '/content/downloads/Forest Fire/23.The_Rim_Fire_in_the_Stanislaus_National_Forest_near_in_California_began_on_Aug._17%2C_2013-0004.jpg', '/content/downloads/Forest Fire/24.maxresdefault.jpg', '/content/downloads/Forest Fire/25.shutterstock_710588224.jpg', '/content/downloads/Forest Fire/26.forest-fire.jpg', '/content/downloads/Forest Fire/27.bc-forest-fire.jpg', '/content/downloads/Forest Fire/28.PZH7OFVCEUI6PLPBO3IGDVLO7I.jpg', '/content/downloads/Forest Fire/29.fire.jpg', '/content/downloads/Forest Fire/30.Forest-Fire.jpg', '/content/downloads/Forest Fire/31.Clipboard0124-1-864x486.jpg', '/content/downloads/Forest Fire/32.https%3A%2F%2Fs3-ap-northeast-1.amazonaws.com%2Fpsh-ex-ftnikkei-3937bb4%2Fimages%2F8%2F1%2F0%2F8%2F22598018-2-eng-GB%2FCropped-1568618039RTX72XZA.jpg', '/content/downloads/Forest Fire/33.189c9327-ee78-4c0f-9a1d-a369a8293def.jpg', '/content/downloads/Forest Fire/34.shutterstock-48032821.jpg', '/content/downloads/Forest Fire/35.file-20190731-186824-fdcdor.jpg', '/content/downloads/Forest Fire/36.dilly_fire_1.jpg', '/content/downloads/Forest Fire/37.forestfire-0.jpg', '/content/downloads/Forest Fire/38.2019_08_12_77924_1565604896._large.jpg', '/content/downloads/Forest Fire/39.gettyimages-1028189352.jpg', '/content/downloads/Forest Fire/40.0.05258500_1557487635_fire2.jpg', '/content/downloads/Forest Fire/41.Fire-Image3-1-864x486.jpg', '/content/downloads/Forest Fire/42.50112402_303.jpg', '/content/downloads/Forest Fire/43.ST_20191102_LYRAIN_5225228.jpg', '/content/downloads/Forest Fire/44.deerfire.jpg', '/content/downloads/Forest Fire/45.forest-fires.jpg', '/content/downloads/Forest Fire/46.eight_col_firepigeonvalley1.jpg', '/content/downloads/Forest Fire/47.267671.jpg', '/content/downloads/Forest Fire/48.maxresdefault.jpg', '/content/downloads/Forest Fire/49.19464620_401.jpg', '/content/downloads/Forest Fire/50.800.jpeg', '/content/downloads/Forest Fire/51.image.jpg', '/content/downloads/Forest Fire/52.fire_water_1050x700.jpg', '/content/downloads/Forest Fire/53.Forest-Fire-WildandFree-OutThere-Colorado.jpg', '/content/downloads/Forest Fire/54.602x338_cmsv2_c80348f2-d875-5317-9ff8-00013263fc69-3810434.jpg', '/content/downloads/Forest Fire/55.good-creek-fire.jpg', '/content/downloads/Forest Fire/56.image.jpg', '/content/downloads/Forest Fire/57.RTS17ID2-1024x683.jpg', '/content/downloads/Forest Fire/58.defense-large.jpg', '/content/downloads/Forest Fire/59.amazon-fires.jpg', '/content/downloads/Forest Fire/60.California_Forest_Fire_One_Tree_Planted_2000x.png', '/content/downloads/Forest Fire/61.2c1561735437r1200x015617752589-7106-4086-1561976678_680x408.png', '/content/downloads/Forest Fire/62.Forest_fire_in_Almora_District_2016.jpg', '/content/downloads/Forest Fire/63._108867730_hi056504389.png', '/content/downloads/Forest Fire/64.coldspring-forest-fire-aug-5-2018-vern-schram.jpg', '/content/downloads/Forest Fire/65.forest-fire.JPG', '/content/downloads/Forest Fire/66.cumming_forest_fires.jpg', '/content/downloads/Forest Fire/67.yellbanner.jpg', '/content/downloads/Forest Fire/68.large_e3tjCbVW6iW44SpXlAZVoWJgICSv72EKR4ql0GJQvNw.jpg', '/content/downloads/Forest Fire/69.61283_20190820_2_37823116_46911418_1566380148902.jpg', '/content/downloads/Forest Fire/70.0.77835200_1551272216_0.jpg', '/content/downloads/Forest Fire/71.gettyimages-862092472.jpg', '/content/downloads/Forest Fire/72.17628024_web1_forest-fire-eutsuk-lake-bcgovt-web.jpg', '/content/downloads/Forest Fire/73.korea-forest-fire-4.jpg', '/content/downloads/Forest Fire/74.00105f23-500.jpg', '/content/downloads/Forest Fire/75.lead_720_405.jpg', '/content/downloads/Forest Fire/76.190911145742-indonesia-fire-090719-large-169.jpeg', '/content/downloads/Forest Fire/77.horseshoe-bay-fire.jpg', '/content/downloads/Forest Fire/78.spanish-forest-fire-01-1-1.jpg', '/content/downloads/Forest Fire/79.bandipur_forest_fire.jpeg', '/content/downloads/Forest Fire/80.69843779.jpg', '/content/downloads/Forest Fire/81.forest-fire.jpg', '/content/downloads/Forest Fire/82.d72-rdyxyaykjao.jpg', '/content/downloads/Forest Fire/83.39296577_303.jpg', '/content/downloads/Forest Fire/84.HAZE_Forest-1709_1568699486.jpg', '/content/downloads/Forest Fire/85.AP_19257235166834.jpg', '/content/downloads/Forest Fire/86.Untitled-design-161-866x487.jpg', '/content/downloads/Forest Fire/87.fire.jpg', '/content/downloads/Forest Fire/88.aa7c7eb6-53a6-11e9-8617-6babbcfb60eb_image_hires_210431.jpeg', '/content/downloads/Forest Fire/89.scientists-call-for-rethink-of-indias-british-era-forest-fire-policies.jpg', '/content/downloads/Forest Fire/90.AP_19254411658028.jpg', '/content/downloads/Forest Fire/91.2200.jpg', '/content/downloads/Forest Fire/92.2016_09_26_12763_1474875686._large.jpg', '/content/downloads/Forest Fire/93.Medium_WW199886.jpg', '/content/downloads/Forest Fire/94.190608082127-04-mountain-fire-arizona-exlarge-169.jpg', '/content/downloads/Forest Fire/95.b-c-wildfire.jpg'], 'Natural Vegetation': ['/content/downloads/Natural Vegetation/1.Natural-Vegetation-of-India-300x225.jpg', '/content/downloads/Natural Vegetation/2.b162.jpg', '/content/downloads/Natural Vegetation/3.1596692_634889171132184985-1.jpg', '/content/downloads/Natural Vegetation/4.Temperate-forests-260x300.jpg', '/content/downloads/Natural Vegetation/5.Natural-vegetation.jpg', '/content/downloads/Natural Vegetation/6.900837203.jpg', '/content/downloads/Natural Vegetation/7.narural-vegetation.jpg', '/content/downloads/Natural Vegetation/8.maxresdefault.jpg', '/content/downloads/Natural Vegetation/9.59_e0c8bd0c-88d0-40e3-afb5-9fa744e9c3b7_lg.jpg', '/content/downloads/Natural Vegetation/10.natural-vegetation-by-shaurya-nagpal-1-638.jpg', '/content/downloads/Natural Vegetation/11.rice2.jpg', '/content/downloads/Natural Vegetation/12.TROPICAL+EVERGREEN+FOREST.jpg', '/content/downloads/Natural Vegetation/13.fe19a947e70776ca95db30f50e04aa4b.jpg', '/content/downloads/Natural Vegetation/14.index.jpg', '/content/downloads/Natural Vegetation/15.Natural-Vegetation.jpg', '/content/downloads/Natural Vegetation/16.Flickr_-_Nicholas_T_-_Lofty.jpg', '/content/downloads/Natural Vegetation/17.image001.jpg', '/content/downloads/Natural Vegetation/18.783382_634310142009991250-1.jpg', '/content/downloads/Natural Vegetation/19.shutterstock_755948704.jpg', '/content/downloads/Natural Vegetation/20.Natural-Vegetation-and-Wildlife.jpg', '/content/downloads/Natural Vegetation/21.800px-Mudumalai_forest_elephant.jpg', '/content/downloads/Natural Vegetation/22.6b477377fae28f9cf92efcbeb5d1ddb2.jpg', '/content/downloads/Natural Vegetation/23.natural-vegetation-wild-life-11-638.jpg', '/content/downloads/Natural Vegetation/24.637_028l.gif', '/content/downloads/Natural Vegetation/25.919588_634369706765731250-1.jpg', '/content/downloads/Natural Vegetation/26.Women_living_around.jpg', '/content/downloads/Natural Vegetation/27.natural-vegetation-and-wild-life-9th-2-728.jpg', '/content/downloads/Natural Vegetation/28.download-2.jpg', '/content/downloads/Natural Vegetation/29.vege.jpg', '/content/downloads/Natural Vegetation/30.an-area-with-thick-natural-vegetation-in-cochin-kerala-AJK3W3.jpg', '/content/downloads/Natural Vegetation/31.Flora-1.jpg', '/content/downloads/Natural Vegetation/32.59041-004-7f34ba3a.jpg', '/content/downloads/Natural Vegetation/33.1%281-2%29.jpg', '/content/downloads/Natural Vegetation/34.NATURAL+VEGETATION.jpg', '/content/downloads/Natural Vegetation/35.Forests-of-Rajasthan.jpg', '/content/downloads/Natural Vegetation/36.Wildlife_Main-730x410.jpg', '/content/downloads/Natural Vegetation/37.types-of-forests-in-india-natural-vegetation-of-india-Copy.jpg', '/content/downloads/Natural Vegetation/38.maxresdefault.jpg', '/content/downloads/Natural Vegetation/39.Lowland_rainforest%2C_Masoala_National_Park%2C_Madagascar_%284026784053%29.jpg', '/content/downloads/Natural Vegetation/40.Natural-Vegetation-and-Wildlife-300x112.jpg', '/content/downloads/Natural Vegetation/41.natural_vegetation.jpg', '/content/downloads/Natural Vegetation/42.59_f1e84623-7bbf-42d4-ac4b-a39d550e3d35_lg.jpg', '/content/downloads/Natural Vegetation/43.le-verdissement-du-sahel-dynamique-de-la-vegetation-naturelle-ou-changement-d-utilisation-des-sols_lightbox.jpg', '/content/downloads/Natural Vegetation/44.natural-vegetation-in-the-world-regent-secondary-e-learning-assignment-3-728.jpg', '/content/downloads/Natural Vegetation/45.19577ea916f7e2d75ba303bed24d9e56.jpg', '/content/downloads/Natural Vegetation/46.av1.jpg', '/content/downloads/Natural Vegetation/47.land-hero.jpg', '/content/downloads/Natural Vegetation/48.evergreen.png', '/content/downloads/Natural Vegetation/49.hqdefault.jpg', '/content/downloads/Natural Vegetation/50.image-1-21-1024x640.jpg', '/content/downloads/Natural Vegetation/51.Untitled-1.jpg', '/content/downloads/Natural Vegetation/52.1200px-Aerial_view_of_the_Amazon_Rainforest-300x184.jpg', '/content/downloads/Natural Vegetation/53.1-anewstudysho.jpg', '/content/downloads/Natural Vegetation/54.dense_vegetation_204947.jpg', '/content/downloads/Natural Vegetation/55.8c14834539e9c37534d85ceddf59fefa1b64186319aebf430d41796832a0d.svg', '/content/downloads/Natural Vegetation/56.ppt-on-natural-vegetation-and-wildlife-by-gursimran-singh-2-638.jpg', '/content/downloads/Natural Vegetation/57.fLORA%20DIV.jpg', '/content/downloads/Natural Vegetation/58.collage1.jpg', '/content/downloads/Natural Vegetation/59.maxresdefault.jpg', '/content/downloads/Natural Vegetation/60.ecoveg_elephant_photo.jpg', '/content/downloads/Natural Vegetation/61.Pineapple.jpg', '/content/downloads/Natural Vegetation/62.4zhrdhvaym0.jpg', '/content/downloads/Natural Vegetation/63.knotweed_control_with_ian_2018.jpg', '/content/downloads/Natural Vegetation/64.1462909_634768919841720000-1.jpg', '/content/downloads/Natural Vegetation/65.Oulankajoki-river-forest-Finland-Oulanka-National-Park.jpg', '/content/downloads/Natural Vegetation/66.image010.jpg', '/content/downloads/Natural Vegetation/67.Types-of-Forests-in-India.jpg', '/content/downloads/Natural Vegetation/68.Sacred%20groves%20Kerala.jpg', '/content/downloads/Natural Vegetation/69.vermont_forest_don_jacobson_header.jpg', '/content/downloads/Natural Vegetation/70.0db643a885049c900b092ee4182c4afd.jpg', '/content/downloads/Natural Vegetation/71.1003.png', '/content/downloads/Natural Vegetation/72.image.jpg', '/content/downloads/Natural Vegetation/73.651695_qimg.jpg', '/content/downloads/Natural Vegetation/74.contour-ploughing-300x201.jpg', '/content/downloads/Natural Vegetation/75.natural-vegetation-and-wildlife-6-638.jpg', '/content/downloads/Natural Vegetation/76.CAFD6BAC-8D1E-4110-B76F-F1DC51A205B0.jpeg', '/content/downloads/Natural Vegetation/77.natural_vegetation.jpg', '/content/downloads/Natural Vegetation/78.220px-Sobreiros_-_Monchique_-_04.11.2018.jpg', '/content/downloads/Natural Vegetation/79.Forest-Indian.jpeg', '/content/downloads/Natural Vegetation/80.forst.jpg', '/content/downloads/Natural Vegetation/81.1%281-1%29.jpg', '/content/downloads/Natural Vegetation/82.Classification-Natural-Vegetation.jpg', '/content/downloads/Natural Vegetation/83.47510386412_9063a2e1a6_o.png', '/content/downloads/Natural Vegetation/84.Forest.jpg', '/content/downloads/Natural Vegetation/85.Taif-2.jpg', '/content/downloads/Natural Vegetation/86.Starr_011104-0052_Scaevola_taccada.jpg', '/content/downloads/Natural Vegetation/87.sahara.jpg', '/content/downloads/Natural Vegetation/88.1-s2.0-S0169204617301378-gr2.jpg', '/content/downloads/Natural Vegetation/89.natural_p2.jpg', '/content/downloads/Natural Vegetation/90.forest-k5KH--621x414@LiveMint.jpg', '/content/downloads/Natural Vegetation/91.iess1cc.jpg', '/content/downloads/Natural Vegetation/92.Image-of-Natural-Vegetation.png', '/content/downloads/Natural Vegetation/93.d164.jpg']}, 12)\n"
          ],
          "name": "stdout"
        }
      ]
    },
    {
      "cell_type": "code",
      "metadata": {
        "id": "6pAdJhHn_pBr",
        "colab_type": "code",
        "outputId": "94b53446-5f2b-41e1-b45b-9bef3c3c75de",
        "colab": {
          "base_uri": "https://localhost:8080/",
          "height": 88
        }
      },
      "source": [
        "# removing coruupted images\n",
        "\n",
        "FOREST_FIRE_DIR = '/content/downloads/Forest Fire'\n",
        "NATURAL_VEG_DIR = '/content/downloads/Natural Vegetation'\n",
        "\n",
        "url_list = [FOREST_FIRE_DIR,NATURAL_VEG_DIR]\n",
        "for i in url_list :\n",
        "    \n",
        "  for image in os.listdir(i):\n",
        "\n",
        "    try:\n",
        "      with Image.open(i+\"/\"+image) as im :\n",
        "        pass\n",
        "\n",
        "    except:\n",
        "      print(i+\"/\"+image)\n",
        "      os.remove(i+\"/\"+image)\n"
      ],
      "execution_count": 5,
      "outputs": [
        {
          "output_type": "stream",
          "text": [
            "/content/downloads/Natural Vegetation/55.8c14834539e9c37534d85ceddf59fefa1b64186319aebf430d41796832a0d.svg\n"
          ],
          "name": "stdout"
        },
        {
          "output_type": "stream",
          "text": [
            "/usr/local/lib/python3.6/dist-packages/PIL/TiffImagePlugin.py:742: UserWarning: Corrupt EXIF data.  Expecting to read 4 bytes but only got 0. \n",
            "  warnings.warn(str(msg))\n"
          ],
          "name": "stderr"
        }
      ]
    },
    {
      "cell_type": "code",
      "metadata": {
        "id": "CH--5f8qI8ta",
        "colab_type": "code",
        "colab": {}
      },
      "source": [
        "# !rm -rf /content/downloads/Forest Fire/.ipynb_checkpoints"
      ],
      "execution_count": 0,
      "outputs": []
    },
    {
      "cell_type": "code",
      "metadata": {
        "id": "yUZmVisZann6",
        "colab_type": "code",
        "colab": {}
      },
      "source": [
        "# renaming the files\n",
        "for i in url_list:\n",
        "    \n",
        "  for num , image in enumerate(os.listdir(i)):\n",
        "\n",
        "    if i == '/content/downloads/Forest Fire':\n",
        "      os.rename(i+\"/\"+image,i+\"/\"+\"forest_fire.\"+str(num)+\".jpg\")\n",
        "    else:\n",
        "      os.rename(i+\"/\"+image,i+\"/\"+\"natural_veg.\"+str(num)+\".jpg\")"
      ],
      "execution_count": 0,
      "outputs": []
    },
    {
      "cell_type": "code",
      "metadata": {
        "id": "Ht3czn-Cuu-U",
        "colab_type": "code",
        "outputId": "f9264ed7-63f3-45ea-ae29-c98437422a0f",
        "colab": {
          "base_uri": "https://localhost:8080/",
          "height": 408
        }
      },
      "source": [
        "! unzip /content/test.zip"
      ],
      "execution_count": 8,
      "outputs": [
        {
          "output_type": "stream",
          "text": [
            "Archive:  /content/test.zip\n",
            "   creating: test/\n",
            "   creating: test/Natural_Vegetation/\n",
            "  inflating: test/Natural_Vegetation/natural_veg.4.jpg  \n",
            "  inflating: test/Natural_Vegetation/natural_veg.0.jpg  \n",
            "  inflating: test/Natural_Vegetation/natural_veg.9.jpg  \n",
            "  inflating: test/Natural_Vegetation/natural_veg.1.jpg  \n",
            "  inflating: test/Natural_Vegetation/natural_veg.2.jpg  \n",
            "  inflating: test/Natural_Vegetation/natural_veg.5.jpg  \n",
            "  inflating: test/Natural_Vegetation/natural_veg.8.jpg  \n",
            "  inflating: test/Natural_Vegetation/natural_veg.7.jpg  \n",
            "   creating: test/Natural_Vegetation/.ipynb_checkpoints/\n",
            "  inflating: test/Natural_Vegetation/natural_veg.3.jpg  \n",
            "   creating: test/Forest_Fire/\n",
            "  inflating: test/Forest_Fire/forest_fire.0.jpg  \n",
            "  inflating: test/Forest_Fire/forest_fire.9.jpg  \n",
            "  inflating: test/Forest_Fire/forest_fire.4.jpg  \n",
            "  inflating: test/Forest_Fire/forest_fire.1.jpg  \n",
            "  inflating: test/Forest_Fire/forest_fire.6.jpg  \n",
            "  inflating: test/Forest_Fire/forest_fire.2.jpg  \n",
            "  inflating: test/Forest_Fire/forest_fire.8.jpg  \n",
            "  inflating: test/Forest_Fire/forest_fire.7.jpg  \n",
            "  inflating: test/Forest_Fire/forest_fire.5.jpg  \n"
          ],
          "name": "stdout"
        }
      ]
    },
    {
      "cell_type": "code",
      "metadata": {
        "id": "H4uwRm4aXVxE",
        "colab_type": "code",
        "outputId": "ef08a082-8d0d-4dbb-f8da-07b4f2f4afe4",
        "colab": {
          "base_uri": "https://localhost:8080/",
          "height": 51
        }
      },
      "source": [
        "# getting the count of the no of images available under each category \n",
        "\n",
        "print(\"forest fire image count: \"+ str(len([x for x in os.listdir(FOREST_FIRE_DIR)])))\n",
        "\n",
        "print(\"natural vegetation image count: \"+ str(len([x for x in os.listdir(NATURAL_VEG_DIR)])))\n",
        "\n",
        "# we have 1 image less in natural vegetation"
      ],
      "execution_count": 7,
      "outputs": [
        {
          "output_type": "stream",
          "text": [
            "forest fire image count: 95\n",
            "natural vegetation image count: 92\n"
          ],
          "name": "stdout"
        }
      ]
    },
    {
      "cell_type": "code",
      "metadata": {
        "id": "q1CWF1EQgZBK",
        "colab_type": "code",
        "outputId": "b350e145-d496-4a18-a93d-94d9e22f55ad",
        "colab": {
          "base_uri": "https://localhost:8080/",
          "height": 68
        }
      },
      "source": [
        "# getting the count of the no of images available under each category \n",
        "print(\"after cleaning\")\n",
        "print(\"forest fire image count: \"+ str(len([x for x in os.listdir(FOREST_FIRE_DIR)])))\n",
        "\n",
        "print(\"natural vegetation image count: \"+ str(len([x for x in os.listdir(NATURAL_VEG_DIR)])))\n"
      ],
      "execution_count": 10,
      "outputs": [
        {
          "output_type": "stream",
          "text": [
            "after cleaning\n",
            "forest fire image count: 92\n",
            "natural vegetation image count: 92\n"
          ],
          "name": "stdout"
        }
      ]
    },
    {
      "cell_type": "code",
      "metadata": {
        "id": "t0aXBwdwheta",
        "colab_type": "code",
        "colab": {}
      },
      "source": [
        "# zip your image folder\n",
        "\n",
        "!zip -r /content/downloads.zip  /content/downloads/"
      ],
      "execution_count": 0,
      "outputs": []
    },
    {
      "cell_type": "code",
      "metadata": {
        "id": "HT-ylkt8lSCo",
        "colab_type": "code",
        "colab": {}
      },
      "source": [
        "# generating test data \n",
        "\n",
        "# getting random iamges of cars and ships in\n",
        "response  = google_images_download.googleimagesdownload()\n",
        "arguments = {\"keywords\":\"Forest Fire,Natural Vegetation\",\"limit\":100,\"print_urls\":False}\n",
        "\n",
        "path = response.download(arguments)\n",
        "print(path)\n",
        "\n",
        "# got 94 images of forest_fire and 94 images of natural vegetation\n",
        "\n",
        "\n",
        "# removing coruupted images\n",
        "\n",
        "FOREST_FIRE_DIR = '/content/downloads/Forest Fire'\n",
        "NATURAL_VEG_DIR = '/content/downloads/Natural Vegetation'\n",
        "\n",
        "url_list = [FOREST_FIRE_DIR,NATURAL_VEG_DIR]\n",
        "# url_list = [FOREST_FIRE_DIR]\n",
        "for i in url_list :\n",
        "    \n",
        "  for image in os.listdir(i):\n",
        "\n",
        "    try:\n",
        "      with Image.open(i+\"/\"+image) as im :\n",
        "        pass\n",
        "\n",
        "    except:\n",
        "      print(i+\"/\"+image)\n",
        "      os.remove(i+\"/\"+image)\n",
        "\n",
        "# renaming the files\n",
        "for i in url_list:\n",
        "    \n",
        "  for num , image in enumerate(os.listdir(i)):\n",
        "\n",
        "    if i == '/content/downloads/Forest Fire':\n",
        "      os.rename(i+\"/\"+image,i+\"/\"+\"forest_fire.\"+str(num)+\".jpg\")\n",
        "    else:\n",
        "      os.rename(i+\"/\"+image,i+\"/\"+\"natural_veg.\"+str(num)+\".jpg\")\n",
        "\n",
        "\n",
        "# getting the count of the no of images available under each category \n",
        "\n",
        "print(\"forest fire image count: \"+ str(len([x for x in os.listdir(FOREST_FIRE_DIR)])))\n",
        "\n",
        "print(\"natural vegetation image count: \"+ str(len([x for x in os.listdir(NATURAL_VEG_DIR)])))\n",
        "\n",
        "# we have 1 image less in natural vegetation\n",
        "\n",
        "\n",
        "# zip your test image folder\n",
        "\n",
        "# !zip -r /content/downloads_test.zip  /content/downloads/"
      ],
      "execution_count": 0,
      "outputs": []
    },
    {
      "cell_type": "code",
      "metadata": {
        "id": "zRt86ADanXe7",
        "colab_type": "code",
        "colab": {}
      },
      "source": [
        "# ! rm -rf /content/downloads/*\n",
        "# ! rm  -rf /content/forest_fire_dataset/*\n",
        "# ! rm -rf /content/downloads_test.zip"
      ],
      "execution_count": 0,
      "outputs": []
    },
    {
      "cell_type": "code",
      "metadata": {
        "id": "cVAPvUpMvu_v",
        "colab_type": "code",
        "colab": {}
      },
      "source": [
        "TRAIN_DIR = '/content/downloads'\n",
        "TEST_DIR = '/content/forest_fire_dataset/test'\n",
        "\n",
        "IMG_SIZE = 50\n",
        "learning_rate = 1e-3\n",
        "\n",
        "\n",
        "MODEL_NAME = \"fireVSnature-{}-{}.model\".format(learning_rate,'2-conv-basic')"
      ],
      "execution_count": 0,
      "outputs": []
    },
    {
      "cell_type": "code",
      "metadata": {
        "id": "c3JApJce2jxo",
        "colab_type": "code",
        "colab": {}
      },
      "source": [
        "from tqdm import tqdm\n",
        "\n",
        "def label_img(img):\n",
        "\n",
        "  word_label = img.split('.')[0]\n",
        "  if word_label == \"forest_fire\":\n",
        "    return [1,0]\n",
        "\n",
        "  else:\n",
        "    return [0,1]"
      ],
      "execution_count": 0,
      "outputs": []
    },
    {
      "cell_type": "code",
      "metadata": {
        "id": "MZsQha9N3avw",
        "colab_type": "code",
        "colab": {}
      },
      "source": [
        "def create_train_set():\n",
        "  training_data = []\n",
        "\n",
        "  for image in tqdm(os.listdir(TRAIN_DIR)):\n",
        "    label = label_img(image)\n",
        "    path  = os.path.join(TRAIN_DIR,image)\n",
        "    image = cv2.resize(cv2.imread(path),(IMG_SIZE,IMG_SIZE))\n",
        "    training_data.append([ np.array(image),np.array(label)])\n",
        "\n",
        "  shuffle(training_data)\n",
        "  np.save('training_data.npy',training_data)\n",
        "  return training_data"
      ],
      "execution_count": 0,
      "outputs": []
    },
    {
      "cell_type": "code",
      "metadata": {
        "id": "0TlK6g8k5FSm",
        "colab_type": "code",
        "colab": {}
      },
      "source": [
        "def create_test_set():\n",
        "  testing_data = []\n",
        "\n",
        "  for image in tqdm(os.listdir(TEST_DIR)):\n",
        "    label = label_img(image)\n",
        "    path  = os.path.join(TEST_DIR,image)\n",
        "    image = cv2.resize(cv2.imread(path),(IMG_SIZE,IMG_SIZE))\n",
        "    testing_data.append([ np.array(image),np.array(label)])\n",
        "\n",
        "  shuffle(testing_data)\n",
        "  np.save('testing_data.npy',testing_data)\n",
        "  return testing_data"
      ],
      "execution_count": 0,
      "outputs": []
    },
    {
      "cell_type": "code",
      "metadata": {
        "id": "XjgGQ6m05FQ6",
        "colab_type": "code",
        "outputId": "8f1d0010-3d59-4ef9-f7b5-e466cb02db41",
        "colab": {
          "base_uri": "https://localhost:8080/",
          "height": 336
        }
      },
      "source": [
        "train_data = create_train_set()\n",
        "# test_data = create_test_set()"
      ],
      "execution_count": 0,
      "outputs": [
        {
          "output_type": "stream",
          "text": [
            "\r  0%|          | 0/2 [00:00<?, ?it/s]\n"
          ],
          "name": "stderr"
        },
        {
          "output_type": "error",
          "ename": "error",
          "evalue": "ignored",
          "traceback": [
            "\u001b[0;31m---------------------------------------------------------------------------\u001b[0m",
            "\u001b[0;31merror\u001b[0m                                     Traceback (most recent call last)",
            "\u001b[0;32m<ipython-input-61-ac412884121a>\u001b[0m in \u001b[0;36m<module>\u001b[0;34m()\u001b[0m\n\u001b[0;32m----> 1\u001b[0;31m \u001b[0mtrain_data\u001b[0m \u001b[0;34m=\u001b[0m \u001b[0mcreate_train_set\u001b[0m\u001b[0;34m(\u001b[0m\u001b[0;34m)\u001b[0m\u001b[0;34m\u001b[0m\u001b[0;34m\u001b[0m\u001b[0m\n\u001b[0m\u001b[1;32m      2\u001b[0m \u001b[0;31m# test_data = create_test_set()\u001b[0m\u001b[0;34m\u001b[0m\u001b[0;34m\u001b[0m\u001b[0;34m\u001b[0m\u001b[0m\n",
            "\u001b[0;32m<ipython-input-20-8b85cbc951a7>\u001b[0m in \u001b[0;36mcreate_train_set\u001b[0;34m()\u001b[0m\n\u001b[1;32m      5\u001b[0m     \u001b[0mlabel\u001b[0m \u001b[0;34m=\u001b[0m \u001b[0mlabel_img\u001b[0m\u001b[0;34m(\u001b[0m\u001b[0mimage\u001b[0m\u001b[0;34m)\u001b[0m\u001b[0;34m\u001b[0m\u001b[0;34m\u001b[0m\u001b[0m\n\u001b[1;32m      6\u001b[0m     \u001b[0mpath\u001b[0m  \u001b[0;34m=\u001b[0m \u001b[0mos\u001b[0m\u001b[0;34m.\u001b[0m\u001b[0mpath\u001b[0m\u001b[0;34m.\u001b[0m\u001b[0mjoin\u001b[0m\u001b[0;34m(\u001b[0m\u001b[0mTRAIN_DIR\u001b[0m\u001b[0;34m,\u001b[0m\u001b[0mimage\u001b[0m\u001b[0;34m)\u001b[0m\u001b[0;34m\u001b[0m\u001b[0;34m\u001b[0m\u001b[0m\n\u001b[0;32m----> 7\u001b[0;31m     \u001b[0mimage\u001b[0m \u001b[0;34m=\u001b[0m \u001b[0mcv2\u001b[0m\u001b[0;34m.\u001b[0m\u001b[0mresize\u001b[0m\u001b[0;34m(\u001b[0m\u001b[0mcv2\u001b[0m\u001b[0;34m.\u001b[0m\u001b[0mimread\u001b[0m\u001b[0;34m(\u001b[0m\u001b[0mpath\u001b[0m\u001b[0;34m)\u001b[0m\u001b[0;34m,\u001b[0m\u001b[0;34m(\u001b[0m\u001b[0mIMG_SIZE\u001b[0m\u001b[0;34m,\u001b[0m\u001b[0mIMG_SIZE\u001b[0m\u001b[0;34m)\u001b[0m\u001b[0;34m)\u001b[0m\u001b[0;34m\u001b[0m\u001b[0;34m\u001b[0m\u001b[0m\n\u001b[0m\u001b[1;32m      8\u001b[0m     \u001b[0mtraining_data\u001b[0m\u001b[0;34m.\u001b[0m\u001b[0mappend\u001b[0m\u001b[0;34m(\u001b[0m\u001b[0;34m[\u001b[0m \u001b[0mnp\u001b[0m\u001b[0;34m.\u001b[0m\u001b[0marray\u001b[0m\u001b[0;34m(\u001b[0m\u001b[0mimage\u001b[0m\u001b[0;34m)\u001b[0m\u001b[0;34m,\u001b[0m\u001b[0mnp\u001b[0m\u001b[0;34m.\u001b[0m\u001b[0marray\u001b[0m\u001b[0;34m(\u001b[0m\u001b[0mlabel\u001b[0m\u001b[0;34m)\u001b[0m\u001b[0;34m]\u001b[0m\u001b[0;34m)\u001b[0m\u001b[0;34m\u001b[0m\u001b[0;34m\u001b[0m\u001b[0m\n\u001b[1;32m      9\u001b[0m \u001b[0;34m\u001b[0m\u001b[0m\n",
            "\u001b[0;31merror\u001b[0m: OpenCV(3.4.3) /io/opencv/modules/imgproc/src/resize.cpp:4044: error: (-215:Assertion failed) !ssize.empty() in function 'resize'\n"
          ]
        }
      ]
    },
    {
      "cell_type": "code",
      "metadata": {
        "id": "Fln1ra0C5FOl",
        "colab_type": "code",
        "colab": {}
      },
      "source": [
        ""
      ],
      "execution_count": 0,
      "outputs": []
    },
    {
      "cell_type": "code",
      "metadata": {
        "id": "vyjwuYU-5FM7",
        "colab_type": "code",
        "colab": {}
      },
      "source": [
        ""
      ],
      "execution_count": 0,
      "outputs": []
    },
    {
      "cell_type": "code",
      "metadata": {
        "id": "bu85jWhg5FJl",
        "colab_type": "code",
        "colab": {}
      },
      "source": [
        ""
      ],
      "execution_count": 0,
      "outputs": []
    },
    {
      "cell_type": "code",
      "metadata": {
        "id": "pLfL3loD5E-G",
        "colab_type": "code",
        "colab": {}
      },
      "source": [
        ""
      ],
      "execution_count": 0,
      "outputs": []
    }
  ]
}